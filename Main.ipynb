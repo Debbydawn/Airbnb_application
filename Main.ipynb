{
 "cells": [
  {
   "cell_type": "markdown",
   "id": "53b7447a-381a-4579-b95f-465fb865a778",
   "metadata": {},
   "source": [
    "## Welcome to the Airbnb application using the listing in England"
   ]
  },
  {
   "cell_type": "markdown",
   "id": "4055f141-4ce6-4ddd-bcbf-20dd6eebd9ad",
   "metadata": {},
   "source": [
    "## Introduction to Airbnb\n",
    "\n",
    "Airbnb, as in “Air Bed and Breakfast,” is a service that lets property owners rent out\n",
    "their spaces to travellers looking for a place to stay. Travelers can rent a space for\n",
    "multiple people to share, a shared space with private rooms, or the entire property\n",
    "for themselves. With Airbnb, you can stay in unique and local accommodations in\n",
    "cities all around the world."
   ]
  },
  {
   "cell_type": "markdown",
   "id": "ee2ad6e5-17a3-4080-a09b-6c9b6f7fee1b",
   "metadata": {},
   "source": [
    "#### Project Aim:\n",
    "The aim of the project is to analyze and explore the Airbnb dataset to gain insights into various aspects of Airbnb listings, hosts, and guest experiences. The project involves loading the dataset, performing data processing and analysis, and visualizing the data to uncover patterns, trends, and useful information.\n",
    "\n",
    "#### Project Objectives:\n",
    "1. Load the Airbnb dataset: The project involves loading the Airbnb dataset, which contains information about Airbnb listings, including attributes such as location, price, amenities, ratings, and reviews.\n",
    "\n",
    "2. Data processing and analysis: Perform data processing tasks such as cleaning the data, handling missing values, and transforming the data into a suitable format for analysis. Conduct various analyses on the dataset to gain insights into host characteristics, guest preferences, pricing patterns, and other relevant factors.\n",
    "\n",
    "3. Visualization: Create visual representations of the data using plots, charts, and graphs to effectively communicate the findings. Visualizations help in understanding patterns, trends, and relationships within the data.\n",
    "\n",
    "##### To utilize this application you need:\n",
    "* You will need the CSV file path \n"
   ]
  },
  {
   "cell_type": "markdown",
   "id": "e967ca73-45e3-40b7-8813-7330430be08b",
   "metadata": {},
   "source": [
    "##### Brief Discussion of the Dataset:\n",
    "The Airbnb dataset used in this project contains information about Airbnb listings, hosts, and guest reviews. It provides a rich set of attributes that can be utilized to analyze various aspects of the Airbnb ecosystem.\n",
    "\n",
    "The dataset typically includes information such as:\n",
    "- Listing details: Location, property type, room type, number of bedrooms, price, minimum and maximum nights allowed, availability, etc.\n",
    "- Host details: Host ID, host name, host response rate, host response time, superhost status, etc.\n",
    "- Guest reviews: Ratings, comments, date of the review, reviewer ID, etc.\n",
    "\n",
    "The dataset offers a comprehensive view of the Airbnb marketplace, enabling analysis of factors such as pricing trends, popular amenities, host characteristics, guest satisfaction, and more.\n",
    "\n",
    "By exploring and analyzing this dataset, valuable insights can be derived, which can be beneficial for various stakeholders, including Airbnb hosts, guests, and the company itself.\n",
    "\n",
    "##### Charateristics of the data\n",
    "* This is a CSV data\n",
    "* The data file, Airbnb_UK_2022.csv, contains 34 columns.\n",
    "* Each row in the file represents a single record for a listing. \n",
    "* The data set containscomplete data for all columns for each record in the file. \n",
    "* This means that there are no missing values."
   ]
  },
  {
   "cell_type": "markdown",
   "id": "0d8797ed-6fb2-40aa-ae73-fc1c72b71d02",
   "metadata": {},
   "source": [
    "#### About the application\n",
    "* This takes a CSV file for data input \n",
    "* It is sectioned into 3 main part for your esay accessiblity using A,B, and C respectively:\n",
    "    * Retrieving data from a CSV file\n",
    "    * Analyzing data using the pandas module\n",
    "    * Visualisation the data\n",
    "* The 3 section was further broken down and are assigned a unique integer to call them"
   ]
  },
  {
   "cell_type": "markdown",
   "id": "a15913c6-933e-4a8a-8d89-3643b81e13c1",
   "metadata": {},
   "source": [
    "#### Project Structure\n",
    "- project\n",
    "    - Data\n",
    "        - \"C:/Users/adedi_tpk1ys1/OneDrive/Documents/Nw/Airbnb_UK_2022.csv.xls\"\n",
    "    - Modules\n",
    "        - main.py\n",
    "        - data_loading_user_code.py\n",
    "        - data_processing_analysis.py\n",
    "        - data_visualization.py\n",
    "\n"
   ]
  },
  {
   "cell_type": "code",
   "execution_count": null,
   "id": "2b9bc518-92af-4200-8a40-95b65f7acbc4",
   "metadata": {},
   "outputs": [],
   "source": []
  },
  {
   "cell_type": "code",
   "execution_count": null,
   "id": "8a32fa7e-e3ef-48a4-8d23-bb65764cf08f",
   "metadata": {},
   "outputs": [],
   "source": []
  },
  {
   "cell_type": "markdown",
   "id": "33228b26-1308-497a-90b9-d9fac989ed05",
   "metadata": {},
   "source": [
    "#### Airbnb Modular Application"
   ]
  },
  {
   "cell_type": "code",
   "execution_count": 4,
   "id": "8177b934-17d5-4a7f-9c10-0ae0e156c6aa",
   "metadata": {},
   "outputs": [],
   "source": [
    "# importing the modules for the application\n",
    "\n",
    "# module for loading data and user-end menus\n",
    "import Data_loading_and_user_code\n",
    "\n",
    "# module for functions of data processing and analysis\n",
    "import Data_processing_and_analysis\n",
    "\n",
    "# module for the visualization of insight\n",
    "import Data_visualization\n",
    "\n",
    "# # # from Data_loading_and_user_code import load_csv_file\n",
    "# file_location = \"C:/Users/adedi_tpk1ys1/OneDrive/Documents/Nw/Airbnb_UK_2022.csv.xls\"\n"
   ]
  },
  {
   "cell_type": "code",
   "execution_count": 5,
   "id": "0f7e6f4b-d50f-4d91-8b55-907ada517e91",
   "metadata": {},
   "outputs": [
    {
     "name": "stdout",
     "output_type": "stream",
     "text": [
      "Welcome to Dawn Airbnb\n"
     ]
    },
    {
     "name": "stdin",
     "output_type": "stream",
     "text": [
      "What is your name?  sff\n"
     ]
    },
    {
     "name": "stdout",
     "output_type": "stream",
     "text": [
      "\n",
      "Yes, SFF, let's get to work.\n",
      "\n",
      "Please select a section:\n",
      "A. Work with a CSV file\n",
      "B. Work with a Pandas file\n",
      "C. Visualize using the pandas data\n"
     ]
    },
    {
     "name": "stdin",
     "output_type": "stream",
     "text": [
      "Enter the section (A-C):  a\n"
     ]
    },
    {
     "name": "stdout",
     "output_type": "stream",
     "text": [
      "\n",
      "Please select an operation:\n",
      "1. Load the data from a CSV file\n",
      "2. Get some details on an individual host by host_id\n",
      "3. Get details of all Airbnb listings for a specified location\n",
      "4. Get details of all Airbnb listings for a specified property type\n"
     ]
    },
    {
     "name": "stdin",
     "output_type": "stream",
     "text": [
      "Enter your choice (1-4):  1\n"
     ]
    },
    {
     "name": "stdout",
     "output_type": "stream",
     "text": [
      "Option 1 selected.\n"
     ]
    },
    {
     "name": "stdin",
     "output_type": "stream",
     "text": [
      "Enter file location:  C:/Users/adedi_tpk1ys1/OneDrive/Documents/Nw/Airbnb_UK_2022.csv.xls\n"
     ]
    },
    {
     "name": "stdout",
     "output_type": "stream",
     "text": [
      "\n",
      "Fetching data...\n",
      "Successfully loaded the C:/Users/adedi_tpk1ys1/OneDrive/Documents/Nw/Airbnb_UK_2022.csv.xls dataset.\n"
     ]
    },
    {
     "name": "stdin",
     "output_type": "stream",
     "text": [
      "Do you want to perform another operation? (yes/no):  no\n"
     ]
    },
    {
     "name": "stdout",
     "output_type": "stream",
     "text": [
      "Exiting...\n",
      "Exited\n"
     ]
    }
   ],
   "source": [
    "# running the application\n",
    "def run_application():\n",
    "    \n",
    "    Data_loading_and_user_code.run_airbnb_program()\n",
    "    \n",
    "    \n",
    "run_application()"
   ]
  },
  {
   "cell_type": "code",
   "execution_count": null,
   "id": "16dbd182-3f0a-4150-bfb9-d8838ab46ef0",
   "metadata": {},
   "outputs": [],
   "source": []
  }
 ],
 "metadata": {
  "kernelspec": {
   "display_name": "Python 3 (ipykernel)",
   "language": "python",
   "name": "python3"
  },
  "language_info": {
   "codemirror_mode": {
    "name": "ipython",
    "version": 3
   },
   "file_extension": ".py",
   "mimetype": "text/x-python",
   "name": "python",
   "nbconvert_exporter": "python",
   "pygments_lexer": "ipython3",
   "version": "3.9.12"
  }
 },
 "nbformat": 4,
 "nbformat_minor": 5
}
