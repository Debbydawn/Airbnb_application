{
 "cells": [
  {
   "cell_type": "code",
   "execution_count": 1,
   "id": "8177b934-17d5-4a7f-9c10-0ae0e156c6aa",
   "metadata": {},
   "outputs": [],
   "source": [
    "import Data_loading_and_user_code\n",
    "import Data_processing_and_analysis\n",
    "import Data_visualization\n"
   ]
  },
  {
   "cell_type": "code",
   "execution_count": 6,
   "id": "eb5b45de-b54e-445d-bfd1-6009e3c816f7",
   "metadata": {},
   "outputs": [],
   "source": [
    "from Data_processing_and_analysis import get_host_details, get_location_details, find_properties_by_location\n",
    "from Data_processing_and_analysis import average_price_location, average_review_location\n",
    "from Data_loading_and_user_code import dawn_airbnb_menu\n",
    "from Data_loading_and_user_code import load_csv_file\n",
    "from Data_loading_and_user_code import load_pd_file"
   ]
  },
  {
   "cell_type": "code",
   "execution_count": 7,
   "id": "54cbd31e-3905-4020-b7cd-d906da19015e",
   "metadata": {},
   "outputs": [
    {
     "name": "stdout",
     "output_type": "stream",
     "text": [
      "Welcome to Dawn Airbnb\n",
      "What is your name?\n"
     ]
    },
    {
     "name": "stdin",
     "output_type": "stream",
     "text": [
      "Please enter your desired name:  promise\n"
     ]
    },
    {
     "name": "stdout",
     "output_type": "stream",
     "text": [
      "\n",
      "Yes, PROMISE let's get to work.\n",
      "\n",
      "Please select an operation:\n",
      "1. Load the data from a CSV file\n",
      "2. Get some details on an individual host by host_id\n",
      "3. Get some details of all Airbnb listings for a specified location\n",
      "4. Get some details of all Airbnb listings for a specified property type\n",
      "5. Load your data from a CSV file into a pandas DataFrame\n",
      "6. Get the most popular amenities or features in Airbnb\n",
      "7. Get the average price of stay in each location\n",
      "8. Get the average review scores rating for each location\n",
      "9. Get the proportion of the number of bedrooms of Airbnb listings using a pie chart\n",
      "10. Get the number of listings for each room type using a bar chart\n",
      "11. Get the relationship between accommodates and price using a scatter plot\n",
      "12. Get Airbnb prices from 2019 - 2022 with a line chart using subplots\n",
      "0. Exit\n"
     ]
    },
    {
     "name": "stdin",
     "output_type": "stream",
     "text": [
      "Enter your choice (0-12):  2\n"
     ]
    },
    {
     "name": "stdout",
     "output_type": "stream",
     "text": [
      "Option 2 selected.\n"
     ]
    },
    {
     "ename": "NameError",
     "evalue": "name 'get_host_details' is not defined",
     "output_type": "error",
     "traceback": [
      "\u001b[1;31m---------------------------------------------------------------------------\u001b[0m",
      "\u001b[1;31mNameError\u001b[0m                                 Traceback (most recent call last)",
      "Input \u001b[1;32mIn [7]\u001b[0m, in \u001b[0;36m<cell line: 1>\u001b[1;34m()\u001b[0m\n\u001b[1;32m----> 1\u001b[0m \u001b[43mData_loading_and_user_code\u001b[49m\u001b[38;5;241;43m.\u001b[39;49m\u001b[43mdawn_airbnb_menu\u001b[49m\u001b[43m(\u001b[49m\u001b[43m)\u001b[49m\n",
      "File \u001b[1;32m~\\SOL_Project\\Data_loading_and_user_code.py:34\u001b[0m, in \u001b[0;36mdawn_airbnb_menu\u001b[1;34m()\u001b[0m\n\u001b[0;32m     31\u001b[0m \u001b[38;5;28;01melif\u001b[39;00m choice \u001b[38;5;241m==\u001b[39m \u001b[38;5;241m2\u001b[39m:\n\u001b[0;32m     32\u001b[0m     \u001b[38;5;66;03m# Perform option 2\u001b[39;00m\n\u001b[0;32m     33\u001b[0m     \u001b[38;5;28mprint\u001b[39m(\u001b[38;5;124m\"\u001b[39m\u001b[38;5;124mOption 2 selected.\u001b[39m\u001b[38;5;124m\"\u001b[39m)\n\u001b[1;32m---> 34\u001b[0m     host_details \u001b[38;5;241m=\u001b[39m \u001b[43mget_host_details\u001b[49m()\n\u001b[0;32m     35\u001b[0m     \u001b[38;5;28mprint\u001b[39m(host_details) \n\u001b[0;32m     37\u001b[0m \u001b[38;5;28;01melif\u001b[39;00m choice \u001b[38;5;241m==\u001b[39m \u001b[38;5;241m3\u001b[39m:\n\u001b[0;32m     38\u001b[0m     \u001b[38;5;66;03m# Perform option 3\u001b[39;00m\n",
      "\u001b[1;31mNameError\u001b[0m: name 'get_host_details' is not defined"
     ]
    }
   ],
   "source": [
    "Data_loading_and_user_code.dawn_airbnb_menu()\n"
   ]
  },
  {
   "cell_type": "code",
   "execution_count": 10,
   "id": "3e6f8ce8-d60d-4803-adec-b03c311a126f",
   "metadata": {},
   "outputs": [
    {
     "name": "stdout",
     "output_type": "stream",
     "text": [
      "Welcome to Dawn Airbnb\n",
      "What is your name?\n"
     ]
    },
    {
     "name": "stdin",
     "output_type": "stream",
     "text": [
      "Please enter your desired name:  dolly\n"
     ]
    },
    {
     "name": "stdout",
     "output_type": "stream",
     "text": [
      "\n",
      "Yes, DOLLY let's get to work.\n",
      "\n",
      "Please select an operation:\n",
      "1. Load the data from a CSV file\n",
      "2. Get some details on an individual host by host_id\n",
      "3. Get some details of all Airbnb listings for a specified location\n",
      "4. Get some details of all Airbnb listings for a specified property type\n",
      "5. Load your data from a CSV file into a pandas DataFrame\n",
      "6. Get the most popular amenities or features in Airbnb\n",
      "7. Get the average price of stay in each location\n",
      "8. Get the average review scores rating for each location\n",
      "9. Get the proportion of the number of bedrooms of Airbnb listings using a pie chart\n",
      "10. Get the number of listings for each room type using a bar chart\n",
      "11. Get the relationship between accommodates and price using a scatter plot\n",
      "12. Get Airbnb prices from 2019 - 2022 with a line chart using subplots\n",
      "0. Exit\n"
     ]
    },
    {
     "name": "stdin",
     "output_type": "stream",
     "text": [
      "Enter your choice (0-12):  1\n"
     ]
    },
    {
     "name": "stdout",
     "output_type": "stream",
     "text": [
      "Option 1 selected.\n"
     ]
    },
    {
     "name": "stdin",
     "output_type": "stream",
     "text": [
      "Do you want to perform another operation? (yes/no):  yes\n"
     ]
    },
    {
     "name": "stdout",
     "output_type": "stream",
     "text": [
      "\n",
      "Please select an operation:\n",
      "1. Load the data from a CSV file\n",
      "2. Get some details on an individual host by host_id\n",
      "3. Get some details of all Airbnb listings for a specified location\n",
      "4. Get some details of all Airbnb listings for a specified property type\n",
      "5. Load your data from a CSV file into a pandas DataFrame\n",
      "6. Get the most popular amenities or features in Airbnb\n",
      "7. Get the average price of stay in each location\n",
      "8. Get the average review scores rating for each location\n",
      "9. Get the proportion of the number of bedrooms of Airbnb listings using a pie chart\n",
      "10. Get the number of listings for each room type using a bar chart\n",
      "11. Get the relationship between accommodates and price using a scatter plot\n",
      "12. Get Airbnb prices from 2019 - 2022 with a line chart using subplots\n",
      "0. Exit\n"
     ]
    },
    {
     "name": "stdin",
     "output_type": "stream",
     "text": [
      "Enter your choice (0-12):  3\n"
     ]
    },
    {
     "name": "stdout",
     "output_type": "stream",
     "text": [
      "Option 3 selected.\n"
     ]
    },
    {
     "ename": "NameError",
     "evalue": "name 'location_details' is not defined",
     "output_type": "error",
     "traceback": [
      "\u001b[1;31m---------------------------------------------------------------------------\u001b[0m",
      "\u001b[1;31mNameError\u001b[0m                                 Traceback (most recent call last)",
      "Input \u001b[1;32mIn [10]\u001b[0m, in \u001b[0;36m<cell line: 55>\u001b[1;34m()\u001b[0m\n\u001b[0;32m     51\u001b[0m         \u001b[38;5;28;01melse\u001b[39;00m:\n\u001b[0;32m     52\u001b[0m                 \u001b[38;5;28mprint\u001b[39m(\u001b[38;5;124m\"\u001b[39m\u001b[38;5;124mInvalid choice. Please enter a valid option.\u001b[39m\u001b[38;5;124m\"\u001b[39m)\n\u001b[1;32m---> 55\u001b[0m \u001b[43mload_and_menu\u001b[49m\u001b[43m(\u001b[49m\u001b[43m)\u001b[49m\n",
      "Input \u001b[1;32mIn [10]\u001b[0m, in \u001b[0;36mload_and_menu\u001b[1;34m()\u001b[0m\n\u001b[0;32m      2\u001b[0m \u001b[38;5;28;01mdef\u001b[39;00m \u001b[38;5;21mload_and_menu\u001b[39m():\n\u001b[0;32m      3\u001b[0m     \u001b[38;5;66;03m# data = Data_loading_and_user_code()\u001b[39;00m\n\u001b[0;32m      4\u001b[0m     \u001b[38;5;28;01mwhile\u001b[39;00m \u001b[38;5;28;01mTrue\u001b[39;00m:\n\u001b[1;32m----> 5\u001b[0m         menu \u001b[38;5;241m=\u001b[39m \u001b[43mdawn_airbnb_menu\u001b[49m\u001b[43m(\u001b[49m\u001b[43m)\u001b[49m\n\u001b[0;32m      6\u001b[0m         \u001b[38;5;28;01mif\u001b[39;00m choice \u001b[38;5;241m==\u001b[39m \u001b[38;5;241m1\u001b[39m:\n\u001b[0;32m      7\u001b[0m                 loaded_data \u001b[38;5;241m=\u001b[39m load_pd_file()\n",
      "File \u001b[1;32m~\\SOL_Project\\Data_loading_and_user_code.py:41\u001b[0m, in \u001b[0;36mdawn_airbnb_menu\u001b[1;34m()\u001b[0m\n\u001b[0;32m     39\u001b[0m     \u001b[38;5;28mprint\u001b[39m(\u001b[38;5;124m\"\u001b[39m\u001b[38;5;124mOption 3 selected.\u001b[39m\u001b[38;5;124m\"\u001b[39m)\n\u001b[0;32m     40\u001b[0m     \u001b[38;5;66;03m# location_details = get_location_details()\u001b[39;00m\n\u001b[1;32m---> 41\u001b[0m     \u001b[38;5;28mprint\u001b[39m(\u001b[43mlocation_details\u001b[49m)\n\u001b[0;32m     43\u001b[0m \u001b[38;5;28;01melif\u001b[39;00m choice \u001b[38;5;241m==\u001b[39m \u001b[38;5;241m4\u001b[39m:\n\u001b[0;32m     44\u001b[0m     \u001b[38;5;66;03m# Perform option 4\u001b[39;00m\n\u001b[0;32m     45\u001b[0m     \u001b[38;5;28mprint\u001b[39m(\u001b[38;5;124m\"\u001b[39m\u001b[38;5;124mOption 4 selected.\u001b[39m\u001b[38;5;124m\"\u001b[39m)\n",
      "\u001b[1;31mNameError\u001b[0m: name 'location_details' is not defined"
     ]
    }
   ],
   "source": [
    "# dawn_airbnb_menu()\n",
    "def load_and_menu():\n",
    "    # data = Data_loading_and_user_code()\n",
    "    while True:\n",
    "        menu = dawn_airbnb_menu()\n",
    "        if choice == 1:\n",
    "            loaded_data = load_pd_file()\n",
    "                \n",
    "        elif choice == 2:\n",
    "            host_details = get_host_details()\n",
    "            print(host_details) \n",
    "                \n",
    "        elif choice == 3:\n",
    "                location_details = get_location_details()\n",
    "                print(location_details)\n",
    "                \n",
    "        elif choice == 4:\n",
    "                properties = find_properties_by_location()\n",
    "                print(properties)\n",
    "                \n",
    "        elif choice == 5:\n",
    "                load_pd = load_pd_file()\n",
    "                \n",
    "        elif choice == 6:\n",
    "                popular_amenity = get_most_popular_amenity(loaded_data)\n",
    "                print(popular_amenity)\n",
    "                \n",
    "        elif choice == 7:\n",
    "                average_price= average_price_location()\n",
    "                print(average_price)\n",
    "                \n",
    "        elif choice == 8:\n",
    "                average_review = average_review_location()\n",
    "                print(average_review)\n",
    "                \n",
    "        elif choice == 9:\n",
    "                pieplot = plot_bedroom_distribution(loaded_data)\n",
    "                \n",
    "        elif choice == 10:\n",
    "                barplot = plot_room_type_counts(loaded_data)\n",
    "                \n",
    "        elif choice == 11:\n",
    "                scatterplot = plot_scatter(loaded_data)\n",
    "                \n",
    "        elif choice == 12:\n",
    "                subplot = subplot_airbnb_prices(loaded_data)\n",
    "                \n",
    "        elif choice == 0:\n",
    "                break\n",
    "                \n",
    "        else:\n",
    "                print(\"Invalid choice. Please enter a valid option.\")\n",
    "            \n",
    "        \n",
    "load_and_menu()  "
   ]
  },
  {
   "cell_type": "code",
   "execution_count": null,
   "id": "cdc36a80-148d-4cf6-a4b8-270c44905a25",
   "metadata": {},
   "outputs": [],
   "source": [
    "def run():\n",
    "    data = Data_loading_and_user_code()\n",
    "    while True:\n",
    "        menu = dawn_airbnb_menu()\n",
    "        if choice == 1:\n",
    "                loaded_data = load_pd_file()\n",
    "                \n",
    "            elif choice == 2:\n",
    "                host_details = get_host_details()\n",
    "                print(host_details) \n",
    "                \n",
    "            elif choice == 3:\n",
    "                location_details = get_location_details()\n",
    "                print(location_details)\n",
    "                \n",
    "            elif choice == 4:\n",
    "                properties = find_properties_by_location()\n",
    "                print(properties)\n",
    "                \n",
    "            elif choice == 5:\n",
    "                load_pd = load_pd_file()\n",
    "                \n",
    "            elif choice == 6:\n",
    "                popular_amenity = get_most_popular_amenity(loaded_data)\n",
    "                print(popular_amenity)\n",
    "                \n",
    "            elif choice == 7:\n",
    "                average_price= average_price_location()\n",
    "                print(average_price)\n",
    "                \n",
    "            elif choice == 8:\n",
    "                average_review = average_review_location()\n",
    "                print(average_review)\n",
    "                \n",
    "            elif choice == 9:\n",
    "                pieplot = plot_bedroom_distribution(loaded_data)\n",
    "                \n",
    "            elif choice == 10:\n",
    "                barplot = plot_room_type_counts(loaded_data)\n",
    "                \n",
    "            elif choice == 11:\n",
    "                scatterplot = plot_scatter(loaded_data)\n",
    "                \n",
    "            elif choice == 12:\n",
    "                subplot = subplot_airbnb_prices(loaded_data)\n",
    "                \n",
    "            elif choice == 0:\n",
    "                break\n",
    "            \n",
    "        "
   ]
  }
 ],
 "metadata": {
  "kernelspec": {
   "display_name": "Python 3 (ipykernel)",
   "language": "python",
   "name": "python3"
  },
  "language_info": {
   "codemirror_mode": {
    "name": "ipython",
    "version": 3
   },
   "file_extension": ".py",
   "mimetype": "text/x-python",
   "name": "python",
   "nbconvert_exporter": "python",
   "pygments_lexer": "ipython3",
   "version": "3.9.12"
  }
 },
 "nbformat": 4,
 "nbformat_minor": 5
}
