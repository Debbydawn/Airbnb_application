{
 "cells": [
  {
   "cell_type": "code",
   "execution_count": 1,
   "id": "c75539ed-0718-49e0-83d5-a19a34a5f777",
   "metadata": {},
   "outputs": [],
   "source": [
    "import SOL_new"
   ]
  },
  {
   "cell_type": "code",
   "execution_count": 7,
   "id": "15d54f87-e12e-42bf-af2a-7ccccd5f1cb3",
   "metadata": {},
   "outputs": [
    {
     "name": "stdin",
     "output_type": "stream",
     "text": [
      "Where is the file location: \"C:/Users/adedi_tpk1ys1/Downloads/dom/Dairies_.csv\"\n"
     ]
    }
   ],
   "source": [
    "#Load the data from a CSV file into memory using the CSV module.\n",
    "file_location = input(\"Where is the file location:\")"
   ]
  },
  {
   "cell_type": "code",
   "execution_count": null,
   "id": "ca481f5d-1203-4154-bf8d-85c48ba0513b",
   "metadata": {},
   "outputs": [],
   "source": [
    "Dairies_.csv"
   ]
  },
  {
   "cell_type": "code",
   "execution_count": 2,
   "id": "5f6d43eb-039d-4c71-9b59-a2b957438505",
   "metadata": {},
   "outputs": [
    {
     "name": "stdin",
     "output_type": "stream",
     "text": [
      "Enter the host id:  554519\n"
     ]
    },
    {
     "name": "stdout",
     "output_type": "stream",
     "text": [
      "The Host Id number 554519 details are :\n",
      "\n",
      "The name of listing is : JESSIE the narrowboat in Little Venice\n",
      "The description is: jessie the narrowboat is moored in the heart of little venice on the north bank of the pool of little venice and just opposite brownings island  its a stones throw from paddington station  convenient  pretty and very relaxing the spacestay on this lovely individual  comfortable boat in the heart of london and experience the capital from a different point of view jessie is a   foot canal boat  or narrowboat  completed in   she is   foot   inches wide  she can sleep   people in comfort  for   she is very comfortable  the boat has a warm inviting interior and space on deck to sit and watch the world go by  the appropriately named little venice  a name coined by the poet robert browning  is a very pretty corner of london  famous as home to hundreds of beautiful canal boats and convenient base from which to explore the capital  two underground stations and good bus routes to all parts of the city are a short walk away  there is something very spe\n",
      "The host name is : Meg\n",
      "The date created by host:  03-05-11\n",
      "The host location is:  London\n",
      "None\n"
     ]
    }
   ],
   "source": [
    "# to retrieve data from a CSV file\n",
    "result = SOL_new.get_host_details()\n",
    "print(result)"
   ]
  },
  {
   "cell_type": "code",
   "execution_count": 5,
   "id": "5fa314d7-4d88-47e3-9c56-c4e6529fcb2c",
   "metadata": {},
   "outputs": [],
   "source": [
    "# import importlib\n",
    "# importlib.reload(SOL_new)"
   ]
  },
  {
   "cell_type": "code",
   "execution_count": 4,
   "id": "0e98c4d3-02a4-4491-998d-27cc34946aff",
   "metadata": {},
   "outputs": [
    {
     "name": "stdin",
     "output_type": "stream",
     "text": [
      "Enter the host location:  London\n"
     ]
    },
    {
     "name": "stdout",
     "output_type": "stream",
     "text": [
      "None\n"
     ]
    }
   ],
   "source": [
    "result2 = SOL_new.get_location_details()\n",
    "print(result2)"
   ]
  },
  {
   "cell_type": "code",
   "execution_count": null,
   "id": "cdc36a80-148d-4cf6-a4b8-270c44905a25",
   "metadata": {},
   "outputs": [],
   "source": []
  }
 ],
 "metadata": {
  "kernelspec": {
   "display_name": "Python 3 (ipykernel)",
   "language": "python",
   "name": "python3"
  },
  "language_info": {
   "codemirror_mode": {
    "name": "ipython",
    "version": 3
   },
   "file_extension": ".py",
   "mimetype": "text/x-python",
   "name": "python",
   "nbconvert_exporter": "python",
   "pygments_lexer": "ipython3",
   "version": "3.9.12"
  }
 },
 "nbformat": 4,
 "nbformat_minor": 5
}
