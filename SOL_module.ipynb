{
 "cells": [
  {
   "cell_type": "code",
   "execution_count": 2,
   "id": "8177b934-17d5-4a7f-9c10-0ae0e156c6aa",
   "metadata": {},
   "outputs": [],
   "source": [
    "import SOL_new\n",
    "import User_code"
   ]
  },
  {
   "cell_type": "code",
   "execution_count": 7,
   "id": "15d54f87-e12e-42bf-af2a-7ccccd5f1cb3",
   "metadata": {},
   "outputs": [
    {
     "name": "stdin",
     "output_type": "stream",
     "text": [
      "Where is the file location: \"C:/Users/adedi_tpk1ys1/Downloads/dom/Dairies_.csv\"\n"
     ]
    }
   ],
   "source": [
    "#Load the data from a CSV file into memory using the CSV module.\n",
    "file_location = input(\"Where is the file location:\")"
   ]
  },
  {
   "cell_type": "code",
   "execution_count": 3,
   "id": "3e6f8ce8-d60d-4803-adec-b03c311a126f",
   "metadata": {},
   "outputs": [
    {
     "ename": "ImportError",
     "evalue": "cannot import name 'dawn_airbnb_menu' from 'User_code' (C:\\Users\\adedi_tpk1ys1\\SOL_Project\\User_code.py)",
     "output_type": "error",
     "traceback": [
      "\u001b[1;31m---------------------------------------------------------------------------\u001b[0m",
      "\u001b[1;31mImportError\u001b[0m                               Traceback (most recent call last)",
      "Input \u001b[1;32mIn [3]\u001b[0m, in \u001b[0;36m<cell line: 1>\u001b[1;34m()\u001b[0m\n\u001b[1;32m----> 1\u001b[0m \u001b[38;5;28;01mfrom\u001b[39;00m \u001b[38;5;21;01mUser_code\u001b[39;00m \u001b[38;5;28;01mimport\u001b[39;00m dawn_airbnb_menu\n\u001b[0;32m      3\u001b[0m dawn_airbnb_menu()\n",
      "\u001b[1;31mImportError\u001b[0m: cannot import name 'dawn_airbnb_menu' from 'User_code' (C:\\Users\\adedi_tpk1ys1\\SOL_Project\\User_code.py)"
     ]
    }
   ],
   "source": [
    "from User_code import dawn_airbnb_menu\n",
    "\n",
    "dawn_airbnb_menu()\n"
   ]
  },
  {
   "cell_type": "code",
   "execution_count": null,
   "id": "cdc36a80-148d-4cf6-a4b8-270c44905a25",
   "metadata": {},
   "outputs": [],
   "source": []
  }
 ],
 "metadata": {
  "kernelspec": {
   "display_name": "Python 3 (ipykernel)",
   "language": "python",
   "name": "python3"
  },
  "language_info": {
   "codemirror_mode": {
    "name": "ipython",
    "version": 3
   },
   "file_extension": ".py",
   "mimetype": "text/x-python",
   "name": "python",
   "nbconvert_exporter": "python",
   "pygments_lexer": "ipython3",
   "version": "3.9.12"
  }
 },
 "nbformat": 4,
 "nbformat_minor": 5
}
