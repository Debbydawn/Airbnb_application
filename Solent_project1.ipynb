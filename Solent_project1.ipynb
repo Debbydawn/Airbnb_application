{
 "cells": [
  {
   "cell_type": "markdown",
   "id": "40b98a74-c817-49b5-9334-0c5c782cfb7f",
   "metadata": {},
   "source": [
    "## Project 1\n",
    "### Creating a programme that \n",
    "* The system will allow the user to retrieve data from a CSV file using the csv module and fundamental python (control structure and file processing)\n",
    "* The system will allow the user to analyse/query data using the pandas module\n",
    "* The system will allow the user to visualise the data\n",
    "* Using this file: C:/Users/adedi_tpk1ys1/Downloads/dom/GDP_per_capita.csv"
   ]
  },
  {
   "cell_type": "code",
   "execution_count": null,
   "id": "7e85d3ff-7f5c-4ce6-b12c-158bbc0702b7",
   "metadata": {},
   "outputs": [],
   "source": [
    "\"C:\\Users\\adedi_tpk1ys1\\SOL_Project\"\n",
    "\n",
    "SOL_Project/Solent_project1.ipynb"
   ]
  }
 ],
 "metadata": {
  "kernelspec": {
   "display_name": "Python 3 (ipykernel)",
   "language": "python",
   "name": "python3"
  },
  "language_info": {
   "codemirror_mode": {
    "name": "ipython",
    "version": 3
   },
   "file_extension": ".py",
   "mimetype": "text/x-python",
   "name": "python",
   "nbconvert_exporter": "python",
   "pygments_lexer": "ipython3",
   "version": "3.9.12"
  }
 },
 "nbformat": 4,
 "nbformat_minor": 5
}
