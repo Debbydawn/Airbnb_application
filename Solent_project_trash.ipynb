{
 "cells": [
  {
   "cell_type": "markdown",
   "id": "40b98a74-c817-49b5-9334-0c5c782cfb7f",
   "metadata": {},
   "source": [
    "## Project 1\n",
    "### Creating a programme that \n",
    "* The system will allow the user to retrieve data from a CSV file using the csv module and fundamental python (control structure and file processing)\n",
    "* The system will allow the user to analyse/query data using the pandas module\n",
    "* The system will allow the user to visualise the data\n",
    "* Using this file: \"C:/Users/adedi_tpk1ys1/OneDrive/Documents/Nw/Airbnb_UK_2022.csv.xls\""
   ]
  },
  {
   "cell_type": "code",
   "execution_count": 15,
   "id": "7e85d3ff-7f5c-4ce6-b12c-158bbc0702b7",
   "metadata": {},
   "outputs": [],
   "source": [
    "# importing all libraries\n",
    "import pandas as pd\n",
    "import numpy as np\n",
    "import datetime as dt\n",
    "import seaborn as sns\n",
    "%matplotlib inline\n",
    "import warnings\n",
    "import matplotlib.pyplot as plt\n",
    "warnings.simplefilter(action='ignore', category=FutureWarning)\n",
    "\n",
    "# \"C:\\Users\\adedi_tpk1ys1\\OneDrive\\Documents\\Nw\\Airbnb_UK_2022.csv.xls\""
   ]
  },
  {
   "cell_type": "code",
   "execution_count": 16,
   "id": "5bedbaa2-f01e-47f3-8da6-dc58bb9e56ed",
   "metadata": {},
   "outputs": [
    {
     "name": "stdin",
     "output_type": "stream",
     "text": [
      "What is the location of the file you want to import from:  C:/Users/adedi_tpk1ys1/OneDrive/Documents/Nw/Airbnb_UK_2022.csv.xls\n"
     ]
    }
   ],
   "source": [
    "# Load the data from a CSV file into memory using the CSV module\n",
    "file= input('What is the location of the file you want to import from: ')"
   ]
  },
  {
   "cell_type": "code",
   "execution_count": 17,
   "id": "0d36c2d8-ad89-4c66-8f35-f598892eab4c",
   "metadata": {},
   "outputs": [
    {
     "data": {
      "text/html": [
       "<div>\n",
       "<style scoped>\n",
       "    .dataframe tbody tr th:only-of-type {\n",
       "        vertical-align: middle;\n",
       "    }\n",
       "\n",
       "    .dataframe tbody tr th {\n",
       "        vertical-align: top;\n",
       "    }\n",
       "\n",
       "    .dataframe thead th {\n",
       "        text-align: right;\n",
       "    }\n",
       "</style>\n",
       "<table border=\"1\" class=\"dataframe\">\n",
       "  <thead>\n",
       "    <tr style=\"text-align: right;\">\n",
       "      <th></th>\n",
       "      <th>host_id</th>\n",
       "      <th>name</th>\n",
       "      <th>description</th>\n",
       "      <th>host_name</th>\n",
       "      <th>host_since</th>\n",
       "      <th>host_location</th>\n",
       "      <th>host_response_time</th>\n",
       "      <th>host_response_rate</th>\n",
       "      <th>host_acceptance_rate</th>\n",
       "      <th>host_is_superhost</th>\n",
       "      <th>...</th>\n",
       "      <th>number_of_reviews</th>\n",
       "      <th>first_review</th>\n",
       "      <th>last_review</th>\n",
       "      <th>review_scores_rating</th>\n",
       "      <th>review_scores_accuracy</th>\n",
       "      <th>review_scores_cleanliness</th>\n",
       "      <th>review_scores_checkin</th>\n",
       "      <th>review_scores_communication</th>\n",
       "      <th>review_scores_location</th>\n",
       "      <th>review_scores_value</th>\n",
       "    </tr>\n",
       "  </thead>\n",
       "  <tbody>\n",
       "    <tr>\n",
       "      <th>0</th>\n",
       "      <td>60302</td>\n",
       "      <td>Bright Chelsea  Apartment. Chelsea!</td>\n",
       "      <td>lots of windows and light  st luke s gardens a...</td>\n",
       "      <td>Philippa</td>\n",
       "      <td>05-12-09</td>\n",
       "      <td>Kensington</td>\n",
       "      <td>within an hour</td>\n",
       "      <td>67%</td>\n",
       "      <td>29%</td>\n",
       "      <td>False</td>\n",
       "      <td>...</td>\n",
       "      <td>89</td>\n",
       "      <td>21-12-09</td>\n",
       "      <td>16-03-20</td>\n",
       "      <td>4.79</td>\n",
       "      <td>4.84</td>\n",
       "      <td>4.88</td>\n",
       "      <td>4.87</td>\n",
       "      <td>4.82</td>\n",
       "      <td>4.93</td>\n",
       "      <td>4.73</td>\n",
       "    </tr>\n",
       "    <tr>\n",
       "      <th>1</th>\n",
       "      <td>554519</td>\n",
       "      <td>JESSIE the narrowboat in Little Venice</td>\n",
       "      <td>jessie the narrowboat is moored in the heart o...</td>\n",
       "      <td>Meg</td>\n",
       "      <td>03-05-11</td>\n",
       "      <td>London</td>\n",
       "      <td>within an hour</td>\n",
       "      <td>100%</td>\n",
       "      <td>100%</td>\n",
       "      <td>True</td>\n",
       "      <td>...</td>\n",
       "      <td>581</td>\n",
       "      <td>04-07-11</td>\n",
       "      <td>02-09-22</td>\n",
       "      <td>4.91</td>\n",
       "      <td>4.94</td>\n",
       "      <td>4.90</td>\n",
       "      <td>4.97</td>\n",
       "      <td>4.96</td>\n",
       "      <td>4.98</td>\n",
       "      <td>4.77</td>\n",
       "    </tr>\n",
       "    <tr>\n",
       "      <th>2</th>\n",
       "      <td>1481851</td>\n",
       "      <td>Notting Hill church stay in Heaven!</td>\n",
       "      <td>the spaceoverview located   min walk away from...</td>\n",
       "      <td>Tania</td>\n",
       "      <td>07-12-11</td>\n",
       "      <td>London</td>\n",
       "      <td>within a few hours</td>\n",
       "      <td>100%</td>\n",
       "      <td>86%</td>\n",
       "      <td>True</td>\n",
       "      <td>...</td>\n",
       "      <td>6</td>\n",
       "      <td>16-07-12</td>\n",
       "      <td>04-07-22</td>\n",
       "      <td>4.83</td>\n",
       "      <td>4.83</td>\n",
       "      <td>5.00</td>\n",
       "      <td>5.00</td>\n",
       "      <td>5.00</td>\n",
       "      <td>5.00</td>\n",
       "      <td>4.83</td>\n",
       "    </tr>\n",
       "    <tr>\n",
       "      <th>3</th>\n",
       "      <td>41759</td>\n",
       "      <td>Battersea live/work artist house, garden communal</td>\n",
       "      <td>artist house  bright high ceiling rooms for bo...</td>\n",
       "      <td>Joe</td>\n",
       "      <td>28-09-09</td>\n",
       "      <td>London</td>\n",
       "      <td>within a day</td>\n",
       "      <td>100%</td>\n",
       "      <td>50%</td>\n",
       "      <td>False</td>\n",
       "      <td>...</td>\n",
       "      <td>96</td>\n",
       "      <td>15-11-10</td>\n",
       "      <td>19-07-22</td>\n",
       "      <td>4.90</td>\n",
       "      <td>4.89</td>\n",
       "      <td>4.91</td>\n",
       "      <td>4.90</td>\n",
       "      <td>4.93</td>\n",
       "      <td>4.59</td>\n",
       "      <td>4.65</td>\n",
       "    </tr>\n",
       "    <tr>\n",
       "      <th>4</th>\n",
       "      <td>586671</td>\n",
       "      <td>DOUBLE ROOM NEAR CENTRAL LONDON</td>\n",
       "      <td>the spaceone lovely double bed and breakfastro...</td>\n",
       "      <td>Joe</td>\n",
       "      <td>14-05-11</td>\n",
       "      <td>London</td>\n",
       "      <td>within a day</td>\n",
       "      <td>90%</td>\n",
       "      <td>84%</td>\n",
       "      <td>True</td>\n",
       "      <td>...</td>\n",
       "      <td>32</td>\n",
       "      <td>06-07-13</td>\n",
       "      <td>08-09-22</td>\n",
       "      <td>4.91</td>\n",
       "      <td>4.97</td>\n",
       "      <td>4.88</td>\n",
       "      <td>5.00</td>\n",
       "      <td>5.00</td>\n",
       "      <td>4.72</td>\n",
       "      <td>4.88</td>\n",
       "    </tr>\n",
       "  </tbody>\n",
       "</table>\n",
       "<p>5 rows × 34 columns</p>\n",
       "</div>"
      ],
      "text/plain": [
       "   host_id                                               name  \\\n",
       "0    60302                Bright Chelsea  Apartment. Chelsea!   \n",
       "1   554519             JESSIE the narrowboat in Little Venice   \n",
       "2  1481851                Notting Hill church stay in Heaven!   \n",
       "3    41759  Battersea live/work artist house, garden communal   \n",
       "4   586671                    DOUBLE ROOM NEAR CENTRAL LONDON   \n",
       "\n",
       "                                         description host_name host_since  \\\n",
       "0  lots of windows and light  st luke s gardens a...  Philippa   05-12-09   \n",
       "1  jessie the narrowboat is moored in the heart o...       Meg   03-05-11   \n",
       "2  the spaceoverview located   min walk away from...     Tania   07-12-11   \n",
       "3  artist house  bright high ceiling rooms for bo...       Joe   28-09-09   \n",
       "4  the spaceone lovely double bed and breakfastro...       Joe   14-05-11   \n",
       "\n",
       "  host_location  host_response_time host_response_rate host_acceptance_rate  \\\n",
       "0    Kensington      within an hour                67%                  29%   \n",
       "1        London      within an hour               100%                 100%   \n",
       "2        London  within a few hours               100%                  86%   \n",
       "3        London        within a day               100%                  50%   \n",
       "4        London        within a day                90%                  84%   \n",
       "\n",
       "   host_is_superhost  ...  number_of_reviews first_review  last_review  \\\n",
       "0              False  ...                 89     21-12-09     16-03-20   \n",
       "1               True  ...                581     04-07-11     02-09-22   \n",
       "2               True  ...                  6     16-07-12     04-07-22   \n",
       "3              False  ...                 96     15-11-10     19-07-22   \n",
       "4               True  ...                 32     06-07-13     08-09-22   \n",
       "\n",
       "  review_scores_rating review_scores_accuracy  review_scores_cleanliness  \\\n",
       "0                 4.79                   4.84                       4.88   \n",
       "1                 4.91                   4.94                       4.90   \n",
       "2                 4.83                   4.83                       5.00   \n",
       "3                 4.90                   4.89                       4.91   \n",
       "4                 4.91                   4.97                       4.88   \n",
       "\n",
       "  review_scores_checkin  review_scores_communication  review_scores_location  \\\n",
       "0                  4.87                         4.82                    4.93   \n",
       "1                  4.97                         4.96                    4.98   \n",
       "2                  5.00                         5.00                    5.00   \n",
       "3                  4.90                         4.93                    4.59   \n",
       "4                  5.00                         5.00                    4.72   \n",
       "\n",
       "  review_scores_value  \n",
       "0                4.73  \n",
       "1                4.77  \n",
       "2                4.83  \n",
       "3                4.65  \n",
       "4                4.88  \n",
       "\n",
       "[5 rows x 34 columns]"
      ]
     },
     "execution_count": 17,
     "metadata": {},
     "output_type": "execute_result"
    }
   ],
   "source": [
    "read_file = pd.read_csv(file)\n",
    "read_file.head()\n"
   ]
  },
  {
   "cell_type": "code",
   "execution_count": 10,
   "id": "dcf1bebf-beb6-405c-a8fc-facc47f2bc2e",
   "metadata": {},
   "outputs": [
    {
     "data": {
      "text/html": [
       "<div>\n",
       "<style scoped>\n",
       "    .dataframe tbody tr th:only-of-type {\n",
       "        vertical-align: middle;\n",
       "    }\n",
       "\n",
       "    .dataframe tbody tr th {\n",
       "        vertical-align: top;\n",
       "    }\n",
       "\n",
       "    .dataframe thead th {\n",
       "        text-align: right;\n",
       "    }\n",
       "</style>\n",
       "<table border=\"1\" class=\"dataframe\">\n",
       "  <thead>\n",
       "    <tr style=\"text-align: right;\">\n",
       "      <th></th>\n",
       "      <th>host_id</th>\n",
       "      <th>name</th>\n",
       "      <th>description</th>\n",
       "      <th>host_name</th>\n",
       "      <th>host_since</th>\n",
       "      <th>host_location</th>\n",
       "      <th>host_response_time</th>\n",
       "      <th>host_response_rate</th>\n",
       "      <th>host_acceptance_rate</th>\n",
       "      <th>host_is_superhost</th>\n",
       "      <th>...</th>\n",
       "      <th>number_of_reviews</th>\n",
       "      <th>first_review</th>\n",
       "      <th>last_review</th>\n",
       "      <th>review_scores_rating</th>\n",
       "      <th>review_scores_accuracy</th>\n",
       "      <th>review_scores_cleanliness</th>\n",
       "      <th>review_scores_checkin</th>\n",
       "      <th>review_scores_communication</th>\n",
       "      <th>review_scores_location</th>\n",
       "      <th>review_scores_value</th>\n",
       "    </tr>\n",
       "  </thead>\n",
       "  <tbody>\n",
       "    <tr>\n",
       "      <th>0</th>\n",
       "      <td>60302</td>\n",
       "      <td>Bright Chelsea  Apartment. Chelsea!</td>\n",
       "      <td>lots of windows and light  st luke s gardens a...</td>\n",
       "      <td>Philippa</td>\n",
       "      <td>05-12-09</td>\n",
       "      <td>Kensington</td>\n",
       "      <td>within an hour</td>\n",
       "      <td>67%</td>\n",
       "      <td>29%</td>\n",
       "      <td>False</td>\n",
       "      <td>...</td>\n",
       "      <td>89</td>\n",
       "      <td>21-12-09</td>\n",
       "      <td>16-03-20</td>\n",
       "      <td>4.79</td>\n",
       "      <td>4.84</td>\n",
       "      <td>4.88</td>\n",
       "      <td>4.87</td>\n",
       "      <td>4.82</td>\n",
       "      <td>4.93</td>\n",
       "      <td>4.73</td>\n",
       "    </tr>\n",
       "    <tr>\n",
       "      <th>1</th>\n",
       "      <td>554519</td>\n",
       "      <td>JESSIE the narrowboat in Little Venice</td>\n",
       "      <td>jessie the narrowboat is moored in the heart o...</td>\n",
       "      <td>Meg</td>\n",
       "      <td>03-05-11</td>\n",
       "      <td>London</td>\n",
       "      <td>within an hour</td>\n",
       "      <td>100%</td>\n",
       "      <td>100%</td>\n",
       "      <td>True</td>\n",
       "      <td>...</td>\n",
       "      <td>581</td>\n",
       "      <td>04-07-11</td>\n",
       "      <td>02-09-22</td>\n",
       "      <td>4.91</td>\n",
       "      <td>4.94</td>\n",
       "      <td>4.90</td>\n",
       "      <td>4.97</td>\n",
       "      <td>4.96</td>\n",
       "      <td>4.98</td>\n",
       "      <td>4.77</td>\n",
       "    </tr>\n",
       "    <tr>\n",
       "      <th>2</th>\n",
       "      <td>1481851</td>\n",
       "      <td>Notting Hill church stay in Heaven!</td>\n",
       "      <td>the spaceoverview located   min walk away from...</td>\n",
       "      <td>Tania</td>\n",
       "      <td>07-12-11</td>\n",
       "      <td>London</td>\n",
       "      <td>within a few hours</td>\n",
       "      <td>100%</td>\n",
       "      <td>86%</td>\n",
       "      <td>True</td>\n",
       "      <td>...</td>\n",
       "      <td>6</td>\n",
       "      <td>16-07-12</td>\n",
       "      <td>04-07-22</td>\n",
       "      <td>4.83</td>\n",
       "      <td>4.83</td>\n",
       "      <td>5.00</td>\n",
       "      <td>5.00</td>\n",
       "      <td>5.00</td>\n",
       "      <td>5.00</td>\n",
       "      <td>4.83</td>\n",
       "    </tr>\n",
       "    <tr>\n",
       "      <th>3</th>\n",
       "      <td>41759</td>\n",
       "      <td>Battersea live/work artist house, garden communal</td>\n",
       "      <td>artist house  bright high ceiling rooms for bo...</td>\n",
       "      <td>Joe</td>\n",
       "      <td>28-09-09</td>\n",
       "      <td>London</td>\n",
       "      <td>within a day</td>\n",
       "      <td>100%</td>\n",
       "      <td>50%</td>\n",
       "      <td>False</td>\n",
       "      <td>...</td>\n",
       "      <td>96</td>\n",
       "      <td>15-11-10</td>\n",
       "      <td>19-07-22</td>\n",
       "      <td>4.90</td>\n",
       "      <td>4.89</td>\n",
       "      <td>4.91</td>\n",
       "      <td>4.90</td>\n",
       "      <td>4.93</td>\n",
       "      <td>4.59</td>\n",
       "      <td>4.65</td>\n",
       "    </tr>\n",
       "    <tr>\n",
       "      <th>4</th>\n",
       "      <td>586671</td>\n",
       "      <td>DOUBLE ROOM NEAR CENTRAL LONDON</td>\n",
       "      <td>the spaceone lovely double bed and breakfastro...</td>\n",
       "      <td>Joe</td>\n",
       "      <td>14-05-11</td>\n",
       "      <td>London</td>\n",
       "      <td>within a day</td>\n",
       "      <td>90%</td>\n",
       "      <td>84%</td>\n",
       "      <td>True</td>\n",
       "      <td>...</td>\n",
       "      <td>32</td>\n",
       "      <td>06-07-13</td>\n",
       "      <td>08-09-22</td>\n",
       "      <td>4.91</td>\n",
       "      <td>4.97</td>\n",
       "      <td>4.88</td>\n",
       "      <td>5.00</td>\n",
       "      <td>5.00</td>\n",
       "      <td>4.72</td>\n",
       "      <td>4.88</td>\n",
       "    </tr>\n",
       "  </tbody>\n",
       "</table>\n",
       "<p>5 rows × 34 columns</p>\n",
       "</div>"
      ],
      "text/plain": [
       "   host_id                                               name  \\\n",
       "0    60302                Bright Chelsea  Apartment. Chelsea!   \n",
       "1   554519             JESSIE the narrowboat in Little Venice   \n",
       "2  1481851                Notting Hill church stay in Heaven!   \n",
       "3    41759  Battersea live/work artist house, garden communal   \n",
       "4   586671                    DOUBLE ROOM NEAR CENTRAL LONDON   \n",
       "\n",
       "                                         description host_name host_since  \\\n",
       "0  lots of windows and light  st luke s gardens a...  Philippa   05-12-09   \n",
       "1  jessie the narrowboat is moored in the heart o...       Meg   03-05-11   \n",
       "2  the spaceoverview located   min walk away from...     Tania   07-12-11   \n",
       "3  artist house  bright high ceiling rooms for bo...       Joe   28-09-09   \n",
       "4  the spaceone lovely double bed and breakfastro...       Joe   14-05-11   \n",
       "\n",
       "  host_location  host_response_time host_response_rate host_acceptance_rate  \\\n",
       "0    Kensington      within an hour                67%                  29%   \n",
       "1        London      within an hour               100%                 100%   \n",
       "2        London  within a few hours               100%                  86%   \n",
       "3        London        within a day               100%                  50%   \n",
       "4        London        within a day                90%                  84%   \n",
       "\n",
       "   host_is_superhost  ...  number_of_reviews first_review  last_review  \\\n",
       "0              False  ...                 89     21-12-09     16-03-20   \n",
       "1               True  ...                581     04-07-11     02-09-22   \n",
       "2               True  ...                  6     16-07-12     04-07-22   \n",
       "3              False  ...                 96     15-11-10     19-07-22   \n",
       "4               True  ...                 32     06-07-13     08-09-22   \n",
       "\n",
       "  review_scores_rating review_scores_accuracy  review_scores_cleanliness  \\\n",
       "0                 4.79                   4.84                       4.88   \n",
       "1                 4.91                   4.94                       4.90   \n",
       "2                 4.83                   4.83                       5.00   \n",
       "3                 4.90                   4.89                       4.91   \n",
       "4                 4.91                   4.97                       4.88   \n",
       "\n",
       "  review_scores_checkin  review_scores_communication  review_scores_location  \\\n",
       "0                  4.87                         4.82                    4.93   \n",
       "1                  4.97                         4.96                    4.98   \n",
       "2                  5.00                         5.00                    5.00   \n",
       "3                  4.90                         4.93                    4.59   \n",
       "4                  5.00                         5.00                    4.72   \n",
       "\n",
       "  review_scores_value  \n",
       "0                4.73  \n",
       "1                4.77  \n",
       "2                4.83  \n",
       "3                4.65  \n",
       "4                4.88  \n",
       "\n",
       "[5 rows x 34 columns]"
      ]
     },
     "execution_count": 10,
     "metadata": {},
     "output_type": "execute_result"
    }
   ],
   "source": [
    "read_file = read_file.dropna(how='all', axis=1)\n",
    "read_file.head(5)"
   ]
  },
  {
   "cell_type": "code",
   "execution_count": 19,
   "id": "4a006c5a-927a-45a0-a10c-032aeddec692",
   "metadata": {},
   "outputs": [],
   "source": [
    "read_file.to_csv('AirBNB.xls')"
   ]
  },
  {
   "cell_type": "code",
   "execution_count": 11,
   "id": "1877ed79-6f45-4c81-b6b0-81cea1f2a7ac",
   "metadata": {},
   "outputs": [
    {
     "name": "stdin",
     "output_type": "stream",
     "text": [
      "Enter transaction id:  89.0\n"
     ]
    },
    {
     "ename": "KeyError",
     "evalue": "'transaction_id'",
     "output_type": "error",
     "traceback": [
      "\u001b[1;31m---------------------------------------------------------------------------\u001b[0m",
      "\u001b[1;31mKeyError\u001b[0m                                  Traceback (most recent call last)",
      "File \u001b[1;32m~\\anaconda3\\lib\\site-packages\\pandas\\core\\indexes\\base.py:3621\u001b[0m, in \u001b[0;36mIndex.get_loc\u001b[1;34m(self, key, method, tolerance)\u001b[0m\n\u001b[0;32m   3620\u001b[0m \u001b[38;5;28;01mtry\u001b[39;00m:\n\u001b[1;32m-> 3621\u001b[0m     \u001b[38;5;28;01mreturn\u001b[39;00m \u001b[38;5;28;43mself\u001b[39;49m\u001b[38;5;241;43m.\u001b[39;49m\u001b[43m_engine\u001b[49m\u001b[38;5;241;43m.\u001b[39;49m\u001b[43mget_loc\u001b[49m\u001b[43m(\u001b[49m\u001b[43mcasted_key\u001b[49m\u001b[43m)\u001b[49m\n\u001b[0;32m   3622\u001b[0m \u001b[38;5;28;01mexcept\u001b[39;00m \u001b[38;5;167;01mKeyError\u001b[39;00m \u001b[38;5;28;01mas\u001b[39;00m err:\n",
      "File \u001b[1;32m~\\anaconda3\\lib\\site-packages\\pandas\\_libs\\index.pyx:136\u001b[0m, in \u001b[0;36mpandas._libs.index.IndexEngine.get_loc\u001b[1;34m()\u001b[0m\n",
      "File \u001b[1;32m~\\anaconda3\\lib\\site-packages\\pandas\\_libs\\index.pyx:163\u001b[0m, in \u001b[0;36mpandas._libs.index.IndexEngine.get_loc\u001b[1;34m()\u001b[0m\n",
      "File \u001b[1;32mpandas\\_libs\\hashtable_class_helper.pxi:5198\u001b[0m, in \u001b[0;36mpandas._libs.hashtable.PyObjectHashTable.get_item\u001b[1;34m()\u001b[0m\n",
      "File \u001b[1;32mpandas\\_libs\\hashtable_class_helper.pxi:5206\u001b[0m, in \u001b[0;36mpandas._libs.hashtable.PyObjectHashTable.get_item\u001b[1;34m()\u001b[0m\n",
      "\u001b[1;31mKeyError\u001b[0m: 'transaction_id'",
      "\nThe above exception was the direct cause of the following exception:\n",
      "\u001b[1;31mKeyError\u001b[0m                                  Traceback (most recent call last)",
      "Input \u001b[1;32mIn [11]\u001b[0m, in \u001b[0;36m<cell line: 3>\u001b[1;34m()\u001b[0m\n\u001b[0;32m      1\u001b[0m \u001b[38;5;66;03m# using transcation_id retrieve an indiviual details\u001b[39;00m\n\u001b[0;32m      2\u001b[0m trans_id \u001b[38;5;241m=\u001b[39m \u001b[38;5;28mfloat\u001b[39m(\u001b[38;5;28minput\u001b[39m(\u001b[38;5;124m\"\u001b[39m\u001b[38;5;124mEnter transaction id: \u001b[39m\u001b[38;5;124m\"\u001b[39m))\n\u001b[1;32m----> 3\u001b[0m df1 \u001b[38;5;241m=\u001b[39m read_file[\u001b[43mread_file\u001b[49m\u001b[43m[\u001b[49m\u001b[38;5;124;43m'\u001b[39;49m\u001b[38;5;124;43mtransaction_id\u001b[39;49m\u001b[38;5;124;43m'\u001b[39;49m\u001b[43m]\u001b[49m\u001b[38;5;241m==\u001b[39mtrans_id]\n\u001b[0;32m      4\u001b[0m \u001b[38;5;66;03m# col= df1[[\"brand\",\"product_line\",\"product_class\",\"order_status\",\"online_order\"]]\u001b[39;00m\n\u001b[0;32m      5\u001b[0m \u001b[38;5;28mprint\u001b[39m(\u001b[38;5;124m\"\u001b[39m\u001b[38;5;124mThe Transaction Id \u001b[39m\u001b[38;5;132;01m{}\u001b[39;00m\u001b[38;5;124m details are :\u001b[39m\u001b[38;5;130;01m\\n\u001b[39;00m\u001b[38;5;132;01m{}\u001b[39;00m\u001b[38;5;124m\"\u001b[39m\u001b[38;5;241m.\u001b[39mformat(trans_id,df1))\n",
      "File \u001b[1;32m~\\anaconda3\\lib\\site-packages\\pandas\\core\\frame.py:3505\u001b[0m, in \u001b[0;36mDataFrame.__getitem__\u001b[1;34m(self, key)\u001b[0m\n\u001b[0;32m   3503\u001b[0m \u001b[38;5;28;01mif\u001b[39;00m \u001b[38;5;28mself\u001b[39m\u001b[38;5;241m.\u001b[39mcolumns\u001b[38;5;241m.\u001b[39mnlevels \u001b[38;5;241m>\u001b[39m \u001b[38;5;241m1\u001b[39m:\n\u001b[0;32m   3504\u001b[0m     \u001b[38;5;28;01mreturn\u001b[39;00m \u001b[38;5;28mself\u001b[39m\u001b[38;5;241m.\u001b[39m_getitem_multilevel(key)\n\u001b[1;32m-> 3505\u001b[0m indexer \u001b[38;5;241m=\u001b[39m \u001b[38;5;28;43mself\u001b[39;49m\u001b[38;5;241;43m.\u001b[39;49m\u001b[43mcolumns\u001b[49m\u001b[38;5;241;43m.\u001b[39;49m\u001b[43mget_loc\u001b[49m\u001b[43m(\u001b[49m\u001b[43mkey\u001b[49m\u001b[43m)\u001b[49m\n\u001b[0;32m   3506\u001b[0m \u001b[38;5;28;01mif\u001b[39;00m is_integer(indexer):\n\u001b[0;32m   3507\u001b[0m     indexer \u001b[38;5;241m=\u001b[39m [indexer]\n",
      "File \u001b[1;32m~\\anaconda3\\lib\\site-packages\\pandas\\core\\indexes\\base.py:3623\u001b[0m, in \u001b[0;36mIndex.get_loc\u001b[1;34m(self, key, method, tolerance)\u001b[0m\n\u001b[0;32m   3621\u001b[0m     \u001b[38;5;28;01mreturn\u001b[39;00m \u001b[38;5;28mself\u001b[39m\u001b[38;5;241m.\u001b[39m_engine\u001b[38;5;241m.\u001b[39mget_loc(casted_key)\n\u001b[0;32m   3622\u001b[0m \u001b[38;5;28;01mexcept\u001b[39;00m \u001b[38;5;167;01mKeyError\u001b[39;00m \u001b[38;5;28;01mas\u001b[39;00m err:\n\u001b[1;32m-> 3623\u001b[0m     \u001b[38;5;28;01mraise\u001b[39;00m \u001b[38;5;167;01mKeyError\u001b[39;00m(key) \u001b[38;5;28;01mfrom\u001b[39;00m \u001b[38;5;21;01merr\u001b[39;00m\n\u001b[0;32m   3624\u001b[0m \u001b[38;5;28;01mexcept\u001b[39;00m \u001b[38;5;167;01mTypeError\u001b[39;00m:\n\u001b[0;32m   3625\u001b[0m     \u001b[38;5;66;03m# If we have a listlike key, _check_indexing_error will raise\u001b[39;00m\n\u001b[0;32m   3626\u001b[0m     \u001b[38;5;66;03m#  InvalidIndexError. Otherwise we fall through and re-raise\u001b[39;00m\n\u001b[0;32m   3627\u001b[0m     \u001b[38;5;66;03m#  the TypeError.\u001b[39;00m\n\u001b[0;32m   3628\u001b[0m     \u001b[38;5;28mself\u001b[39m\u001b[38;5;241m.\u001b[39m_check_indexing_error(key)\n",
      "\u001b[1;31mKeyError\u001b[0m: 'transaction_id'"
     ]
    }
   ],
   "source": [
    "# using transcation_id retrieve an indiviual details\n",
    "trans_id = float(input(\"Enter transaction id: \"))\n",
    "df1 = read_file[read_file['transaction_id']==trans_id]\n",
    "# col= df1[[\"brand\",\"product_line\",\"product_class\",\"order_status\",\"online_order\"]]\n",
    "print(\"The Transaction Id {} details are :\\n{}\".format(trans_id,df1))\n",
    "\n",
    "# or\n",
    "# if trans_id > 0 :\n",
    "#     index= read_file.transaction_id[ read_file.transaction_id == trans_id ].index.tolist()\n",
    "#     row = read_file.iloc[index]\n",
    "#     print(\"The Transaction Id {} details are :\\n{}\".format(trans_id,row))\\\n",
    "    "
   ]
  },
  {
   "cell_type": "code",
   "execution_count": 14,
   "id": "c39ccbfb-4483-47b2-93e1-52e37993972e",
   "metadata": {},
   "outputs": [
    {
     "name": "stdin",
     "output_type": "stream",
     "text": [
      "Enter the name of the brand:  Solex\n"
     ]
    },
    {
     "name": "stdout",
     "output_type": "stream",
     "text": [
      "The Solex brand details are :\n",
      "       brand product_line product_class order_status online_order\n",
      "0      Solex     Standard        medium     Approved        False\n",
      "8      Solex     Standard        medium     Approved        False\n",
      "36     Solex     Standard          high     Approved        False\n",
      "37     Solex     Standard        medium     Approved        False\n",
      "41     Solex      Touring        medium     Approved        False\n",
      "...      ...          ...           ...          ...          ...\n",
      "19981  Solex         Road        medium     Approved         True\n",
      "19985  Solex     Standard           low     Approved         True\n",
      "19986  Solex     Standard        medium     Approved        False\n",
      "19992  Solex     Standard        medium     Approved        False\n",
      "19996  Solex         Road        medium     Approved         True\n",
      "\n",
      "[4253 rows x 5 columns]\n"
     ]
    }
   ],
   "source": [
    "# retrieve details of all transaction for a particular brand (product_line,product_class, order_status,online_order using brand)\n",
    "brand_n = input(\"Enter the name of the brand: \")\n",
    "df1 = read_file[read_file['brand']==brand_n]\n",
    "col= df1[[\"brand\",\"product_line\",\"product_class\",\"order_status\",\"online_order\"]]\n",
    "print(\"The {} brand details are :\\n{}\".format(brand_n,col))"
   ]
  },
  {
   "cell_type": "code",
   "execution_count": 16,
   "id": "ab8e2ad6-46ef-46c1-a69b-204627d53b04",
   "metadata": {},
   "outputs": [
    {
     "name": "stdin",
     "output_type": "stream",
     "text": [
      "Enter the name of the product calss:  low\n"
     ]
    },
    {
     "name": "stdout",
     "output_type": "stream",
     "text": [
      "The low product class details are :\n",
      "      product_class  age_category gender     wealth_segment owns_car\n",
      "2               low           NaN    NaN                NaN      NaN\n",
      "10              low           NaN    NaN                NaN      NaN\n",
      "11              low          50.0   Male  Affluent Customer      Yes\n",
      "12              low          70.0   Male      Mass Customer       No\n",
      "21              low          50.0   Male      Mass Customer       No\n",
      "...             ...           ...    ...                ...      ...\n",
      "19969           low           NaN    NaN                NaN      NaN\n",
      "19971           low           NaN    NaN                NaN      NaN\n",
      "19973           low           NaN    NaN                NaN      NaN\n",
      "19985           low           NaN    NaN                NaN      NaN\n",
      "19988           low           NaN    NaN                NaN      NaN\n",
      "\n",
      "[2964 rows x 5 columns]\n"
     ]
    }
   ],
   "source": [
    "# retrieve details of some details for a particular product_class (age_category,gender,wealth_segment,owns_car using product_class)\n",
    "product_C = input(\"Enter the name of the product calss: \")\n",
    "df1 = read_file[read_file['product_class']==product_C]\n",
    "col = df1[[\"product_class\",\"age_category\",\"gender\",\"wealth_segment\",\"owns_car\"]]\n",
    "print(\"The {} product class details are :\\n{}\".format(product_C,col))   "
   ]
  },
  {
   "cell_type": "code",
   "execution_count": 82,
   "id": "5d19ee91-7550-471c-9d4b-3ce1608d716a",
   "metadata": {},
   "outputs": [
    {
     "name": "stdin",
     "output_type": "stream",
     "text": [
      "Enter customer id number:  2950.0\n"
     ]
    },
    {
     "name": "stdout",
     "output_type": "stream",
     "text": [
      "The brand and 2950.0 customer id details are :\n",
      "                brand product_line product_class order_status online_order  \\\n",
      "0               Solex     Standard        medium     Approved        False   \n",
      "11064  Giant Bicycles     Standard        medium     Approved        False   \n",
      "18922           Solex     Standard        medium     Approved        False   \n",
      "\n",
      "       recency transaction_date  product_id  \n",
      "0          NaN        2/25/2017         2.0  \n",
      "11064      NaN       10/16/2017         1.0  \n",
      "18922      NaN        4/26/2017        62.0  \n"
     ]
    }
   ],
   "source": [
    "# retrieve some of the details for a particular customer_id and brand (recency, transaction_date,product_id using product_class)\n",
    "cust_id = float(input(\"Enter customer id number: \"))\n",
    "# brand_n = input(\"Enter the name of the brand: \")\n",
    "df1 = read_file[read_file['customer_id']==cust_id]  #,[read_file['brand']==brand_n]]  \n",
    "col= df1[[\"brand\",\"product_line\",\"product_class\",\"order_status\",\"online_order\",\"recency\",\"transaction_date\",\"product_id\"]]\n",
    "# df2 = read_file[read_file['brand']==brand_n]\n",
    "# col2 = df2[[\"brand\",\"product_line\",\"product_class\",\"order_status\",\"online_order\",\"recency\",\"transaction_date\",\"product_id\"]]\n",
    "print(\"The brand and {} customer id details are :\\n{}\".format(cust_id,col))"
   ]
  },
  {
   "cell_type": "markdown",
   "id": "1ef4420e-9834-4c23-8c42-b0cae69602b3",
   "metadata": {},
   "source": [
    "Section b\n",
    "- Identifying the most popular amenities or features that Airbnb guests are looking for\n",
    "- Analyse the average price of stay in each location\n",
    "- Analyse the average review scores rating for each location\n",
    "- Analyse to get insightful information based on your own selection (should not be the same as the previous requirements)"
   ]
  },
  {
   "cell_type": "code",
   "execution_count": null,
   "id": "90cfd334-2fb8-4e6a-88dc-b80c728dc1f9",
   "metadata": {},
   "outputs": [],
   "source": [
    "# val_c = input(\"Enter the value you wamt to identify:\")\n",
    "col_n = input(\"Enter the column you want to identify from: \")\n",
    "cal = read_file[col_n].value_counts().to_frame()\n",
    "# print(\"The counts of {} values are :\\n{}\".format(col_n,cal)) \n",
    "pop = max(cal)\n",
    "print(\"The popular value in {} is {} {}\".format(col_n,gh[pop],pop))\n"
   ]
  },
  {
   "cell_type": "code",
   "execution_count": 87,
   "id": "4d593f10-d748-4c0b-bb25-ec15c19033da",
   "metadata": {},
   "outputs": [
    {
     "name": "stdin",
     "output_type": "stream",
     "text": [
      "What is the location of the file you want to import from:  C:/Users/adedi_tpk1ys1/OneDrive/Documents/Nw/advertising.csv\n"
     ]
    }
   ],
   "source": [
    "# Load the data from a CSV file into memory using the CSV module\n",
    "file2= input('What is the location of the file you want to import from: ')\n",
    "#\"C:/Users/adedi_tpk1ys1/OneDrive/Documents/Nw/advertising.csv\""
   ]
  },
  {
   "cell_type": "code",
   "execution_count": 88,
   "id": "a9934b9a-7596-419b-be0a-1f213cca6d5e",
   "metadata": {},
   "outputs": [
    {
     "data": {
      "text/html": [
       "<div>\n",
       "<style scoped>\n",
       "    .dataframe tbody tr th:only-of-type {\n",
       "        vertical-align: middle;\n",
       "    }\n",
       "\n",
       "    .dataframe tbody tr th {\n",
       "        vertical-align: top;\n",
       "    }\n",
       "\n",
       "    .dataframe thead th {\n",
       "        text-align: right;\n",
       "    }\n",
       "</style>\n",
       "<table border=\"1\" class=\"dataframe\">\n",
       "  <thead>\n",
       "    <tr style=\"text-align: right;\">\n",
       "      <th></th>\n",
       "      <th>TV</th>\n",
       "      <th>Radio</th>\n",
       "      <th>Newspaper</th>\n",
       "      <th>Sales</th>\n",
       "    </tr>\n",
       "  </thead>\n",
       "  <tbody>\n",
       "    <tr>\n",
       "      <th>0</th>\n",
       "      <td>230.1</td>\n",
       "      <td>37.8</td>\n",
       "      <td>69.2</td>\n",
       "      <td>2200</td>\n",
       "    </tr>\n",
       "    <tr>\n",
       "      <th>1</th>\n",
       "      <td>44.5</td>\n",
       "      <td>39.3</td>\n",
       "      <td>45.1</td>\n",
       "      <td>1000</td>\n",
       "    </tr>\n",
       "    <tr>\n",
       "      <th>2</th>\n",
       "      <td>17.2</td>\n",
       "      <td>45.9</td>\n",
       "      <td>69.3</td>\n",
       "      <td>1200</td>\n",
       "    </tr>\n",
       "    <tr>\n",
       "      <th>3</th>\n",
       "      <td>151.5</td>\n",
       "      <td>41.3</td>\n",
       "      <td>58.5</td>\n",
       "      <td>1700</td>\n",
       "    </tr>\n",
       "    <tr>\n",
       "      <th>4</th>\n",
       "      <td>180.8</td>\n",
       "      <td>10.8</td>\n",
       "      <td>58.4</td>\n",
       "      <td>1800</td>\n",
       "    </tr>\n",
       "    <tr>\n",
       "      <th>5</th>\n",
       "      <td>8.7</td>\n",
       "      <td>48.9</td>\n",
       "      <td>75.0</td>\n",
       "      <td>700</td>\n",
       "    </tr>\n",
       "    <tr>\n",
       "      <th>6</th>\n",
       "      <td>57.5</td>\n",
       "      <td>32.8</td>\n",
       "      <td>23.5</td>\n",
       "      <td>1200</td>\n",
       "    </tr>\n",
       "    <tr>\n",
       "      <th>7</th>\n",
       "      <td>120.2</td>\n",
       "      <td>19.6</td>\n",
       "      <td>11.6</td>\n",
       "      <td>1300</td>\n",
       "    </tr>\n",
       "    <tr>\n",
       "      <th>8</th>\n",
       "      <td>8.6</td>\n",
       "      <td>2.1</td>\n",
       "      <td>1.0</td>\n",
       "      <td>500</td>\n",
       "    </tr>\n",
       "    <tr>\n",
       "      <th>9</th>\n",
       "      <td>199.8</td>\n",
       "      <td>2.6</td>\n",
       "      <td>21.2</td>\n",
       "      <td>1600</td>\n",
       "    </tr>\n",
       "  </tbody>\n",
       "</table>\n",
       "</div>"
      ],
      "text/plain": [
       "      TV  Radio  Newspaper  Sales\n",
       "0  230.1   37.8       69.2   2200\n",
       "1   44.5   39.3       45.1   1000\n",
       "2   17.2   45.9       69.3   1200\n",
       "3  151.5   41.3       58.5   1700\n",
       "4  180.8   10.8       58.4   1800\n",
       "5    8.7   48.9       75.0    700\n",
       "6   57.5   32.8       23.5   1200\n",
       "7  120.2   19.6       11.6   1300\n",
       "8    8.6    2.1        1.0    500\n",
       "9  199.8    2.6       21.2   1600"
      ]
     },
     "execution_count": 88,
     "metadata": {},
     "output_type": "execute_result"
    }
   ],
   "source": [
    "re_file = pd.read_csv(file2)\n",
    "re_file.head()\n",
    "re_file.head(10)"
   ]
  },
  {
   "cell_type": "code",
   "execution_count": 1,
   "id": "9276e4ee-f977-4e11-bf9b-be2fc86dd9ae",
   "metadata": {},
   "outputs": [
    {
     "name": "stdout",
     "output_type": "stream",
     "text": [
      "Location  Location\n",
      "London    London      2\n",
      "New York  New York    2\n",
      "Paris     Paris       2\n",
      "Name: Location, dtype: int64\n"
     ]
    }
   ],
   "source": [
    "import pandas as pd\n",
    "\n",
    "# create a sample DataFrame\n",
    "data = {'Location': ['New York', 'London', 'Paris', 'New York', 'Paris', 'London'],\n",
    "        'Price': [100, 150, 200, 125, 175, 150]}\n",
    "df = pd.DataFrame(data)\n",
    "\n",
    "# group by location and calculate the value_counts for the 'Location' column\n",
    "location_counts = df.groupby('Location')['Location'].value_counts()\n",
    "\n",
    "print(location_counts)"
   ]
  },
  {
   "cell_type": "code",
   "execution_count": 3,
   "id": "15cbcfdd-f1c0-40b5-b837-cadf9777b08b",
   "metadata": {},
   "outputs": [
    {
     "data": {
      "image/png": "[encoded data removed]",
      "text/plain": [
       "<Figure size 432x288 with 1 Axes>"
      ]
     },
     "metadata": {},
     "output_type": "display_data"
    }
   ],
   "source": [
    "import pandas as pd\n",
    "import matplotlib.pyplot as plt\n",
    "\n",
    "# create a sample DataFrame\n",
    "data = {'Location': ['New York', 'London', 'Paris', 'New York', 'Paris', 'London'],\n",
    "        'Fruit': ['Apple', 'Orange', 'Banana', 'Apple', 'Apple', 'Banana'],\n",
    "        'Price': [100, 150, 200, 125, 175, 150]}\n",
    "df = pd.DataFrame(data)\n",
    "\n",
    "# group by location and fruit, and calculate the count\n",
    "fruit_counts = df.groupby(['Location', 'Fruit']).size().unstack().fillna(0)\n",
    "\n",
    "# plot the fruit_counts for a specific location as a pie chart\n",
    "location = 'New York'\n",
    "fruit_counts.loc[location].plot(kind='pie', ylabel='Fruit Proportion', legend=False)\n",
    "\n",
    "plt.show()\n"
   ]
  },
  {
   "cell_type": "code",
   "execution_count": 4,
   "id": "d0148c0c-f399-4382-80a6-81bb299f0e6a",
   "metadata": {},
   "outputs": [
    {
     "data": {
      "text/html": [
       "<div>\n",
       "<style scoped>\n",
       "    .dataframe tbody tr th:only-of-type {\n",
       "        vertical-align: middle;\n",
       "    }\n",
       "\n",
       "    .dataframe tbody tr th {\n",
       "        vertical-align: top;\n",
       "    }\n",
       "\n",
       "    .dataframe thead th {\n",
       "        text-align: right;\n",
       "    }\n",
       "</style>\n",
       "<table border=\"1\" class=\"dataframe\">\n",
       "  <thead>\n",
       "    <tr style=\"text-align: right;\">\n",
       "      <th>Fruit</th>\n",
       "      <th>Apple</th>\n",
       "      <th>Banana</th>\n",
       "      <th>Orange</th>\n",
       "    </tr>\n",
       "    <tr>\n",
       "      <th>Location</th>\n",
       "      <th></th>\n",
       "      <th></th>\n",
       "      <th></th>\n",
       "    </tr>\n",
       "  </thead>\n",
       "  <tbody>\n",
       "    <tr>\n",
       "      <th>London</th>\n",
       "      <td>0.0</td>\n",
       "      <td>1.0</td>\n",
       "      <td>1.0</td>\n",
       "    </tr>\n",
       "    <tr>\n",
       "      <th>New York</th>\n",
       "      <td>2.0</td>\n",
       "      <td>0.0</td>\n",
       "      <td>0.0</td>\n",
       "    </tr>\n",
       "    <tr>\n",
       "      <th>Paris</th>\n",
       "      <td>1.0</td>\n",
       "      <td>1.0</td>\n",
       "      <td>0.0</td>\n",
       "    </tr>\n",
       "  </tbody>\n",
       "</table>\n",
       "</div>"
      ],
      "text/plain": [
       "Fruit     Apple  Banana  Orange\n",
       "Location                       \n",
       "London      0.0     1.0     1.0\n",
       "New York    2.0     0.0     0.0\n",
       "Paris       1.0     1.0     0.0"
      ]
     },
     "execution_count": 4,
     "metadata": {},
     "output_type": "execute_result"
    }
   ],
   "source": [
    "fruit_counts"
   ]
  },
  {
   "cell_type": "code",
   "execution_count": 5,
   "id": "0f4bb3b7-ae67-433a-a9c6-32d5f3d80600",
   "metadata": {},
   "outputs": [
    {
     "name": "stdout",
     "output_type": "stream",
     "text": [
      "Values:\n",
      "Index(['Apple', 'Orange', 'Banana'], dtype='object')\n",
      "Counts:\n",
      "[3 2 2]\n"
     ]
    }
   ],
   "source": [
    "import pandas as pd\n",
    "\n",
    "# create a sample DataFrame\n",
    "data = {'Fruit': ['Apple', 'Orange', 'Banana', 'Apple', 'Apple', 'Banana', 'Orange']}\n",
    "df = pd.DataFrame(data)\n",
    "\n",
    "# count the frequency of each fruit using value_counts()\n",
    "fruit_counts = df['Fruit'].value_counts()\n",
    "\n",
    "# access the values and counts from the fruit_counts Series\n",
    "values = fruit_counts.index\n",
    "counts = fruit_counts.values\n",
    "\n",
    "# print the values and counts\n",
    "print(\"Values:\")\n",
    "print(values)\n",
    "print(\"Counts:\")\n",
    "print(counts)\n"
   ]
  },
  {
   "cell_type": "code",
   "execution_count": 6,
   "id": "cffd5513-bf90-4198-881d-a748e681cc44",
   "metadata": {},
   "outputs": [
    {
     "name": "stdout",
     "output_type": "stream",
     "text": [
      "    Fruit  Count\n",
      "0   Apple      3\n",
      "1  Orange      2\n",
      "2  Banana      2\n"
     ]
    }
   ],
   "source": [
    "import pandas as pd\n",
    "\n",
    "# create a sample DataFrame\n",
    "data = {'Fruit': ['Apple', 'Orange', 'Banana', 'Apple', 'Apple', 'Banana', 'Orange']}\n",
    "df = pd.DataFrame(data)\n",
    "\n",
    "# count the frequency of each fruit using value_counts()\n",
    "fruit_counts = df['Fruit'].value_counts()\n",
    "\n",
    "# convert fruit_counts into a new DataFrame\n",
    "df_fruit_counts = pd.DataFrame({'Fruit': fruit_counts.index, 'Count': fruit_counts.values})\n",
    "\n",
    "print(df_fruit_counts)\n"
   ]
  },
  {
   "cell_type": "code",
   "execution_count": 7,
   "id": "cf3aa69b-6d82-48c8-a014-98e3b8cab2f1",
   "metadata": {},
   "outputs": [
    {
     "name": "stdout",
     "output_type": "stream",
     "text": [
      "    Fruit   Color  Count\n",
      "0   Apple     Red      3\n",
      "1  Banana  Yellow      2\n",
      "2  Orange  Orange      2\n"
     ]
    }
   ],
   "source": [
    "import pandas as pd\n",
    "\n",
    "# create a sample DataFrame\n",
    "data = {'Fruit': ['Apple', 'Orange', 'Banana', 'Apple', 'Apple', 'Banana', 'Orange'],\n",
    "        'Color': ['Red', 'Orange', 'Yellow', 'Red', 'Red', 'Yellow', 'Orange']}\n",
    "df = pd.DataFrame(data)\n",
    "\n",
    "# count the frequency of each unique combination of 'Fruit' and 'Color' columns\n",
    "counts = df.groupby(['Fruit', 'Color']).size().reset_index(name='Count')\n",
    "\n",
    "# print the resulting DataFrame\n",
    "print(counts)\n"
   ]
  },
  {
   "cell_type": "code",
   "execution_count": 8,
   "id": "367e842d-8de5-4d5f-9002-05f39dabf31a",
   "metadata": {},
   "outputs": [
    {
     "name": "stdout",
     "output_type": "stream",
     "text": [
      "    Name  Count\n",
      "0   John      2\n",
      "1  Alice      2\n",
      "2    Bob      2\n"
     ]
    }
   ],
   "source": [
    "import pandas as pd\n",
    "\n",
    "# create a sample DataFrame\n",
    "data = {'Name': ['John', 'Alice', 'Bob', 'Alice', 'John', 'Bob'],\n",
    "        'Age': [25, 30, 35, 30, 25, 35]}\n",
    "df = pd.DataFrame(data)\n",
    "\n",
    "# count the unique values in the 'Name' column and store the result in a DataFrame\n",
    "name_counts = df['Name'].value_counts().reset_index()\n",
    "\n",
    "# rename the columns in the new DataFrame\n",
    "name_counts.columns = ['Name', 'Count']\n",
    "\n",
    "# display the resulting DataFrame\n",
    "print(name_counts)\n"
   ]
  },
  {
   "cell_type": "code",
   "execution_count": 10,
   "id": "c6f0736a-355a-4f6f-9293-1d4d85cffab9",
   "metadata": {},
   "outputs": [
    {
     "data": {
      "text/html": [
       "<div>\n",
       "<style scoped>\n",
       "    .dataframe tbody tr th:only-of-type {\n",
       "        vertical-align: middle;\n",
       "    }\n",
       "\n",
       "    .dataframe tbody tr th {\n",
       "        vertical-align: top;\n",
       "    }\n",
       "\n",
       "    .dataframe thead th {\n",
       "        text-align: right;\n",
       "    }\n",
       "</style>\n",
       "<table border=\"1\" class=\"dataframe\">\n",
       "  <thead>\n",
       "    <tr style=\"text-align: right;\">\n",
       "      <th></th>\n",
       "      <th>Name</th>\n",
       "      <th>Age</th>\n",
       "    </tr>\n",
       "  </thead>\n",
       "  <tbody>\n",
       "    <tr>\n",
       "      <th>0</th>\n",
       "      <td>John</td>\n",
       "      <td>25</td>\n",
       "    </tr>\n",
       "    <tr>\n",
       "      <th>1</th>\n",
       "      <td>Alice</td>\n",
       "      <td>30</td>\n",
       "    </tr>\n",
       "    <tr>\n",
       "      <th>2</th>\n",
       "      <td>Bob</td>\n",
       "      <td>35</td>\n",
       "    </tr>\n",
       "    <tr>\n",
       "      <th>3</th>\n",
       "      <td>Alice</td>\n",
       "      <td>30</td>\n",
       "    </tr>\n",
       "    <tr>\n",
       "      <th>4</th>\n",
       "      <td>John</td>\n",
       "      <td>25</td>\n",
       "    </tr>\n",
       "    <tr>\n",
       "      <th>5</th>\n",
       "      <td>Bob</td>\n",
       "      <td>35</td>\n",
       "    </tr>\n",
       "  </tbody>\n",
       "</table>\n",
       "</div>"
      ],
      "text/plain": [
       "    Name  Age\n",
       "0   John   25\n",
       "1  Alice   30\n",
       "2    Bob   35\n",
       "3  Alice   30\n",
       "4   John   25\n",
       "5    Bob   35"
      ]
     },
     "execution_count": 10,
     "metadata": {},
     "output_type": "execute_result"
    }
   ],
   "source": [
    "df"
   ]
  },
  {
   "cell_type": "code",
   "execution_count": 11,
   "id": "b1b1882e-ebe7-4789-a119-15ebe554eb0e",
   "metadata": {},
   "outputs": [
    {
     "name": "stdout",
     "output_type": "stream",
     "text": [
      "         Fruit  Count\n",
      "Fruit                \n",
      "Apple    Apple      8\n",
      "Banana  Orange      8\n",
      "Orange  Banana      7\n"
     ]
    }
   ],
   "source": [
    "import pandas as pd\n",
    "\n",
    "# create a sample DataFrame\n",
    "data = {'Fruit': ['Apple', 'Orange', 'Banana', 'Apple', 'Apple', 'Banana', 'Orange'],\n",
    "        'Count': [3, 5, 2, 1, 4, 6, 2]}\n",
    "df = pd.DataFrame(data)\n",
    "\n",
    "# use value_counts() on 'Fruit' column and retrieve counts from 'Count' column\n",
    "fruit_counts = df['Fruit'].value_counts()\n",
    "count_values = df.groupby('Fruit')['Count'].sum()\n",
    "\n",
    "# convert result to a new DataFrame\n",
    "result_df = pd.DataFrame({'Fruit': fruit_counts.index, 'Count': count_values})\n",
    "\n",
    "print(result_df)\n"
   ]
  },
  {
   "cell_type": "code",
   "execution_count": 12,
   "id": "084bfa14-e25a-410d-bfa5-32655c288dc2",
   "metadata": {},
   "outputs": [
    {
     "data": {
      "text/plain": [
       "Apple     3\n",
       "Orange    2\n",
       "Banana    2\n",
       "Name: Fruit, dtype: int64"
      ]
     },
     "execution_count": 12,
     "metadata": {},
     "output_type": "execute_result"
    }
   ],
   "source": [
    "fruit_counts"
   ]
  },
  {
   "cell_type": "code",
   "execution_count": 33,
   "id": "9419a15f-28d2-4afb-92a1-a829a63de053",
   "metadata": {},
   "outputs": [
    {
     "data": {
      "text/plain": [
       "Fruit\n",
       "Foo    8\n",
       "Bar    8\n",
       "Baz    7\n",
       "Name: Count, dtype: int64"
      ]
     },
     "execution_count": 33,
     "metadata": {},
     "output_type": "execute_result"
    }
   ],
   "source": [
    "count_values\n",
    "\n",
    "\n",
    "# rename a column value after count\n",
    "count_values.rename({'Apple': 'Foo', 'Banana': 'Bar', 'Orange': 'Baz'}, inplace=True)\n",
    "count_values"
   ]
  },
  {
   "cell_type": "code",
   "execution_count": 14,
   "id": "888b9f61-029d-4d21-91f6-616458751789",
   "metadata": {},
   "outputs": [
    {
     "data": {
      "image/png": "[encoded data removed]",
      "text/plain": [
       "<Figure size 432x288 with 1 Axes>"
      ]
     },
     "metadata": {},
     "output_type": "display_data"
    }
   ],
   "source": [
    "import matplotlib.pyplot as plt\n",
    "\n",
    "# sample data\n",
    "labels = ['Apple', 'Orange', 'Banana']\n",
    "sizes = [30, 40, 20]\n",
    "\n",
    "# create a pie chart with labeled and adjusted distances\n",
    "fig, ax = plt.subplots()\n",
    "wedges, labels, autopcts = ax.pie(sizes, labels=labels, autopct='%1.1f%%',\n",
    "                                   labeldistance=0.7, pctdistance=0.85)\n",
    "\n",
    "# set a title for the pie chart\n",
    "ax.set_title('Fruit Proportions')\n",
    "\n",
    "# set legend outside the pie\n",
    "ax.legend(wedges, labels, loc=\"center left\", bbox_to_anchor=(0.8, 0, 0.5, 1))\n",
    "\n",
    "plt.show()\n"
   ]
  },
  {
   "cell_type": "code",
   "execution_count": 15,
   "id": "591eb7bd-04ac-4120-b25e-2de602a574e7",
   "metadata": {},
   "outputs": [
    {
     "data": {
      "image/png": "[encoded data removed]",
      "text/plain": [
       "<Figure size 720x720 with 4 Axes>"
      ]
     },
     "metadata": {
      "needs_background": "light"
     },
     "output_type": "display_data"
    }
   ],
   "source": [
    "import matplotlib.pyplot as plt\n",
    "\n",
    "# sample data for multiple pies\n",
    "labels1 = ['Apple', 'Orange', 'Banana']\n",
    "sizes1 = [30, 40, 20]\n",
    "\n",
    "labels2 = ['Pineapple', 'Mango', 'Grapes']\n",
    "sizes2 = [25, 35, 40]\n",
    "\n",
    "# create a 2x2 grid of subplots\n",
    "fig, axs = plt.subplots(2, 2, figsize=(10, 10))\n",
    "\n",
    "# create pie charts in each subplot\n",
    "axs[0, 0].pie(sizes1, labels=labels1, autopct='%1.1f%%')\n",
    "axs[0, 0].set_title('Fruit Proportions 1')\n",
    "\n",
    "axs[0, 1].pie(sizes2, labels=labels2, autopct='%1.1f%%')\n",
    "axs[0, 1].set_title('Fruit Proportions 2')\n",
    "\n",
    "# add more pie charts in other subplots as needed\n",
    "\n",
    "# adjust layout and spacing\n",
    "plt.tight_layout()\n",
    "\n",
    "plt.show()\n"
   ]
  },
  {
   "cell_type": "code",
   "execution_count": 16,
   "id": "d928b886-f34c-4a40-a8c5-d6cda18809a0",
   "metadata": {},
   "outputs": [
    {
     "data": {
      "image/png": "[encoded data removed]",
      "text/plain": [
       "<Figure size 432x288 with 1 Axes>"
      ]
     },
     "metadata": {},
     "output_type": "display_data"
    }
   ],
   "source": [
    "import matplotlib.pyplot as plt\n",
    "\n",
    "# sample data\n",
    "labels = ['Apple', 'Orange', 'Banana', 'Grapes', 'Watermelon', 'Strawberry', 'Pineapple', 'Mango']\n",
    "sizes = [10, 15, 5, 20, 25, 7, 8, 10]\n",
    "\n",
    "# create a pie chart with labels\n",
    "fig, ax = plt.subplots()\n",
    "wedges, labels, autopcts = ax.pie(sizes, labels=labels, autopct='%1.1f%%')\n",
    "\n",
    "# set a title for the pie chart\n",
    "ax.set_title('Fruit Proportions')\n",
    "\n",
    "# call tight_layout() to adjust the spacing\n",
    "plt.tight_layout()\n",
    "\n",
    "plt.show()\n"
   ]
  },
  {
   "cell_type": "code",
   "execution_count": 23,
   "id": "4e604670-0ae6-4584-a344-dc94365480cd",
   "metadata": {},
   "outputs": [
    {
     "ename": "AttributeError",
     "evalue": "'Wedge' object has no attribute 'get_width'",
     "output_type": "error",
     "traceback": [
      "\u001b[1;31m---------------------------------------------------------------------------\u001b[0m",
      "\u001b[1;31mAttributeError\u001b[0m                            Traceback (most recent call last)",
      "Input \u001b[1;32mIn [23]\u001b[0m, in \u001b[0;36m<cell line: 15>\u001b[1;34m()\u001b[0m\n\u001b[0;32m     14\u001b[0m \u001b[38;5;66;03m# add percentage labels as annotations\u001b[39;00m\n\u001b[0;32m     15\u001b[0m \u001b[38;5;28;01mfor\u001b[39;00m wedge \u001b[38;5;129;01min\u001b[39;00m wedges:\n\u001b[0;32m     16\u001b[0m     \u001b[38;5;66;03m# calculate percentage\u001b[39;00m\n\u001b[1;32m---> 17\u001b[0m     pct \u001b[38;5;241m=\u001b[39m (\u001b[38;5;241m100\u001b[39m \u001b[38;5;241m*\u001b[39m \u001b[43mwedge\u001b[49m\u001b[38;5;241;43m.\u001b[39;49m\u001b[43mget_width\u001b[49m()) \u001b[38;5;241m/\u001b[39m \u001b[38;5;28msum\u001b[39m(sizes)\n\u001b[0;32m     19\u001b[0m     \u001b[38;5;66;03m# get center of wedge\u001b[39;00m\n\u001b[0;32m     20\u001b[0m     x, y \u001b[38;5;241m=\u001b[39m wedge\u001b[38;5;241m.\u001b[39mcenter\n",
      "\u001b[1;31mAttributeError\u001b[0m: 'Wedge' object has no attribute 'get_width'"
     ]
    },
    {
     "data": {
      "image/png": "[encoded data removed]",
      "text/plain": [
       "<Figure size 432x288 with 1 Axes>"
      ]
     },
     "metadata": {},
     "output_type": "display_data"
    }
   ],
   "source": [
    "import matplotlib.pyplot as plt\n",
    "\n",
    "# sample data\n",
    "labels = ['Apple', 'Orange', 'Banana']\n",
    "sizes = [30, 40, 20]\n",
    "\n",
    "# create a pie chart without labels\n",
    "fig, ax = plt.subplots()\n",
    "wedges, _ = ax.pie(sizes, labels=None)\n",
    "\n",
    "# set a title for the pie chart\n",
    "ax.set_title('Fruit Proportions')\n",
    "\n",
    "# add percentage labels as annotations\n",
    "for wedge in wedges:\n",
    "    # calculate percentage\n",
    "    pct = (100 * wedge.get_width()) / sum(sizes)\n",
    "    \n",
    "    # get center of wedge\n",
    "    x, y = wedge.center\n",
    "    \n",
    "    # create the annotation\n",
    "    ax.annotate(f'{pct:.1f}%', (x, y), xytext=(0,0), textcoords='offset points',\n",
    "                ha='center', va='center')\n",
    "\n",
    "plt.show()\n"
   ]
  },
  {
   "cell_type": "code",
   "execution_count": 21,
   "id": "748c65a8-2d8a-4bf1-bb80-f158bab7e47d",
   "metadata": {},
   "outputs": [
    {
     "data": {
      "image/png": "[encoded data removed]",
      "text/plain": [
       "<Figure size 432x288 with 1 Axes>"
      ]
     },
     "metadata": {},
     "output_type": "display_data"
    }
   ],
   "source": [
    "import matplotlib.pyplot as plt\n",
    "\n",
    "# sample data\n",
    "labels = ['Apple', 'Orange', 'Banana']\n",
    "sizes = [30, 40, 20]\n",
    "\n",
    "# create a pie chart\n",
    "fig, ax = plt.subplots()\n",
    "wedges, labels, autopcts = ax.pie(sizes, labels=labels, autopct='%1.1f%%')\n",
    "\n",
    "# set a title for the pie chart\n",
    "ax.set_title('Fruit Proportions')\n",
    "\n",
    "# add annotations (labels) to the pie chart\n",
    "for i, wedge in enumerate(wedges):\n",
    "    # get x, y coordinates of the wedge's center\n",
    "    x, y = wedge.center\n",
    "    \n",
    "    # get the label and percentage for the current wedge\n",
    "    label = labels[i]\n",
    "    pct = autopcts[i]\n",
    "    \n",
    "    # create the annotation (label)\n",
    "    ax.annotate(f'{label}: {pct}', (x, y), xytext=(10, 2), textcoords='offset points',\n",
    "                ha='center', va='center')\n",
    "\n",
    "plt.show()\n"
   ]
  },
  {
   "cell_type": "code",
   "execution_count": 24,
   "id": "51eda44c-bacc-41e7-add4-5df9a72649cd",
   "metadata": {},
   "outputs": [
    {
     "data": {
      "image/png": "[encoded data removed]",
      "text/plain": [
       "<Figure size 432x288 with 1 Axes>"
      ]
     },
     "metadata": {},
     "output_type": "display_data"
    }
   ],
   "source": [
    "import matplotlib.pyplot as plt\n",
    "\n",
    "# sample data\n",
    "labels = ['Apple', 'Orange', 'Banana']\n",
    "sizes = [30, 40, 20]\n",
    "\n",
    "# create a pie chart\n",
    "fig, ax = plt.subplots()\n",
    "wedges, labels, autopcts = ax.pie(sizes, labels=labels, autopct='%1.1f%%')\n",
    "\n",
    "# set a title for the pie chart\n",
    "ax.set_title('Fruit Proportions')\n",
    "\n",
    "# add percentage values as annotations\n",
    "for i, wedge in enumerate(wedges):\n",
    "    # get x, y coordinates of the wedge's center\n",
    "    x, y = wedge.center\n",
    "    \n",
    "    # get the percentage for the current wedge\n",
    "    pct = autopcts[i]\n",
    "    \n",
    "    # create the annotation (label) with percentage\n",
    "    ax.annotate(pct, (x, y), xytext=(0, 0), textcoords='offset points',\n",
    "                ha='center', va='center')\n",
    "\n",
    "plt.show()\n"
   ]
  },
  {
   "cell_type": "code",
   "execution_count": 25,
   "id": "439308a7-4569-4a88-a02d-af6849424773",
   "metadata": {},
   "outputs": [
    {
     "data": {
      "image/png": "[encoded data removed]",
      "text/plain": [
       "<Figure size 432x288 with 1 Axes>"
      ]
     },
     "metadata": {},
     "output_type": "display_data"
    }
   ],
   "source": [
    "import matplotlib.pyplot as plt\n",
    "\n",
    "# sample data\n",
    "labels = ['Apple', 'Orange', 'Banana']\n",
    "sizes = [30, 40, 20]\n",
    "\n",
    "# create a pie chart\n",
    "fig, ax = plt.subplots()\n",
    "wedges, labels, autopcts = ax.pie(sizes, labels=labels, autopct='%1.1f%%')\n",
    "\n",
    "# set a title for the pie chart\n",
    "ax.set_title('Fruit Proportions')\n",
    "\n",
    "# create custom legend labels with percentage\n",
    "legend_labels = [f'{label}: {pct}' for label, pct in zip(labels, autopcts)]\n",
    "\n",
    "# add custom legend\n",
    "ax.legend(wedges, legend_labels, loc='upper right')\n",
    "\n",
    "plt.show()\n"
   ]
  },
  {
   "cell_type": "code",
   "execution_count": 26,
   "id": "c681aaf6-b453-4686-aa1c-9d6fb42265d2",
   "metadata": {},
   "outputs": [
    {
     "data": {
      "image/png": "[encoded data removed]",
      "text/plain": [
       "<Figure size 432x288 with 1 Axes>"
      ]
     },
     "metadata": {},
     "output_type": "display_data"
    }
   ],
   "source": [
    "import matplotlib.pyplot as plt\n",
    "\n",
    "# sample data\n",
    "labels = ['Apple', 'Orange', 'Banana']\n",
    "sizes = [30, 40, 20]\n",
    "\n",
    "# create a pie chart\n",
    "fig, ax = plt.subplots()\n",
    "wedges, labels, autopcts = ax.pie(sizes, labels=labels, autopct='%1.1f%%')\n",
    "\n",
    "# set a title for the pie chart\n",
    "ax.set_title('Fruit Proportions')\n",
    "\n",
    "# add percentage to legend\n",
    "ax.legend(wedges, labels, title=\"Fruits\", loc=\"best\", bbox_to_anchor=(1, 0, 0.5, 1),\n",
    "          bbox_transform=plt.gcf().transFigure, \n",
    "          labelspacing=2, \n",
    "          handletextpad=1,\n",
    "          handlelength=0.5,\n",
    "          borderpad=1,\n",
    "          title_fontsize=12)\n",
    "\n",
    "plt.show()\n"
   ]
  },
  {
   "cell_type": "code",
   "execution_count": 31,
   "id": "669d072f-c866-49b2-a516-c987f1564fcb",
   "metadata": {},
   "outputs": [
    {
     "name": "stdout",
     "output_type": "stream",
     "text": [
      "Foo    2\n",
      "Bar    2\n",
      "Baz    2\n",
      "Name: A, dtype: int64\n"
     ]
    }
   ],
   "source": [
    "import pandas as pd\n",
    "\n",
    "# create a sample DataFrame\n",
    "df = pd.DataFrame({'A': ['foo', 'bar', 'baz', 'foo', 'bar', 'baz']})\n",
    "\n",
    "# perform count on column 'A'\n",
    "counts = df['A'].value_counts()\n",
    "\n",
    "# rename a column value after count\n",
    "counts.rename({'foo': 'Foo', 'bar': 'Bar', 'baz': 'Baz'}, inplace=True)\n",
    "\n",
    "# display the updated counts\n",
    "print(counts)\n"
   ]
  },
  {
   "cell_type": "code",
   "execution_count": null,
   "id": "6dcc50e5-f768-4f6c-927d-d62d096fff23",
   "metadata": {},
   "outputs": [],
   "source": []
  }
 ],
 "metadata": {
  "kernelspec": {
   "display_name": "Python 3 (ipykernel)",
   "language": "python",
   "name": "python3"
  },
  "language_info": {
   "codemirror_mode": {
    "name": "ipython",
    "version": 3
   },
   "file_extension": ".py",
   "mimetype": "text/x-python",
   "name": "python",
   "nbconvert_exporter": "python",
   "pygments_lexer": "ipython3",
   "version": "3.9.12"
  }
 },
 "nbformat": 4,
 "nbformat_minor": 5
}
